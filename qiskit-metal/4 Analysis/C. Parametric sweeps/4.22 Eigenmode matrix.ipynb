{
 "cells": [
  {
   "cell_type": "markdown",
   "metadata": {},
   "source": [
    "# Sweeps - Eigenmode matrix"
   ]
  },
  {
   "cell_type": "markdown",
   "metadata": {},
   "source": [
    "### Prerequisite\n",
    "You need to have a working local installation of Ansys"
   ]
  },
  {
   "cell_type": "markdown",
   "metadata": {},
   "source": [
    "## 1. Perform the necessary imports and create a QDesign in Metal first."
   ]
  },
  {
   "cell_type": "code",
   "execution_count": 1,
   "metadata": {},
   "outputs": [],
   "source": [
    "%load_ext autoreload\n",
    "%autoreload 2"
   ]
  },
  {
   "cell_type": "code",
   "execution_count": 2,
   "metadata": {},
   "outputs": [],
   "source": [
    "import qiskit_metal as metal\n",
    "from qiskit_metal import designs, draw\n",
    "from qiskit_metal import MetalGUI, Dict, Headings\n",
    "from qiskit_metal.analyses.quantization import EPRanalysis"
   ]
  },
  {
   "cell_type": "code",
   "execution_count": 3,
   "metadata": {
    "tags": []
   },
   "outputs": [],
   "source": [
    "# Create the design in Metal\n",
    "# Create a design by specifying the chip size and open Metal GUI.\n",
    "\n",
    "design = designs.DesignPlanar({}, True)\n",
    "design.chips.main.size['size_x'] = '2mm'\n",
    "design.chips.main.size['size_y'] = '2mm'\n",
    "\n",
    "gui = MetalGUI(design)\n",
    "\n",
    "from qiskit_metal.qlibrary.qubits.transmon_pocket import TransmonPocket\n",
    "from qiskit_metal.qlibrary.terminations.open_to_ground import OpenToGround\n",
    "from qiskit_metal.qlibrary.tlines.meandered import RouteMeander"
   ]
  },
  {
   "cell_type": "markdown",
   "metadata": {},
   "source": [
    "### In this example, the design consists of 1 qubit and 1 CPW connected to OpenToGround."
   ]
  },
  {
   "cell_type": "code",
   "execution_count": 4,
   "metadata": {},
   "outputs": [],
   "source": [
    "# Allow running the same cell here multiple times to overwrite changes\n",
    "design.overwrite_enabled = True\n",
    "\n",
    "# Remove all qcomponents from GUI.\n",
    "design.delete_all_components()\n",
    "\n",
    "# So as to demonstrate the quality factor outputs easily, the\n",
    "#subtrate material type is being changed to FR4_epoxy from the\n",
    "#default of silicon\n",
    "design.chips.main.material = 'FR4_epoxy'\n",
    "\n",
    "q1 = TransmonPocket(\n",
    "    design,\n",
    "    'Q1',\n",
    "    options=dict(pad_width='425 um',\n",
    "                 pocket_height='650um', \n",
    "                 hfss_inductance = '17nH',\n",
    "                 connection_pads=dict(\n",
    "                     readout=dict(loc_W=+1, loc_H=+1, pad_width='200um'))))\n",
    "otg = OpenToGround(design,\n",
    "                   'open_to_ground',\n",
    "                   options=dict(pos_x='1.75mm', pos_y='0um', orientation='0'))\n",
    "readout = RouteMeander(\n",
    "    design, 'readout',\n",
    "    Dict(\n",
    "        total_length='6 mm',\n",
    "        hfss_wire_bonds = True,\n",
    "        fillet='90 um',\n",
    "        lead=dict(start_straight='100um'),\n",
    "        pin_inputs=Dict(start_pin=Dict(component='Q1', pin='readout'),\n",
    "                        end_pin=Dict(component='open_to_ground', pin='open')),\n",
    "    ))\n",
    "\n",
    "gui.rebuild()\n",
    "gui.autoscale()"
   ]
  },
  {
   "cell_type": "markdown",
   "metadata": {},
   "source": [
    "## 2 Metal passes information to 'hfss' simulator, and gets a solution matrix.\n"
   ]
  },
  {
   "cell_type": "code",
   "execution_count": 5,
   "metadata": {
    "tags": []
   },
   "outputs": [],
   "source": [
    "# Create a separate analysis object for the combined qbit+readout.\n",
    "eig_qres = EPRanalysis(design, \"hfss\")\n"
   ]
  },
  {
   "cell_type": "markdown",
   "metadata": {},
   "source": [
    "Prepare data to pass as arguments for method run_sweep().  \n",
    "\n",
    "Method run_sweep() will open the simulation software if software is not open already."
   ]
  },
  {
   "cell_type": "code",
   "execution_count": 6,
   "metadata": {},
   "outputs": [],
   "source": [
    "### for render_design()\n",
    "# Render every QComponent in QDesign.\n",
    "render_qcomps = []\n",
    "\n",
    "# Identify which kind of pins in Ansys. \n",
    "# Follow details from renderer in\n",
    "# QHFSSRenderer.render_design.\n",
    "# No pins are open, so don't need to utilize render_endcaps.\n",
    "open_terminations = []\n",
    "\n",
    "#List of tuples of jj's that shouldn't be rendered.  \n",
    "#Follow details from renderer in QHFSSRenderer.render_design.\n",
    "render_ignored_jjs = []\n",
    "\n",
    "# Either calculate a bounding box based on the location of \n",
    "# rendered geometries or use chip size from design class.\n",
    "box_plus_buffer = True"
   ]
  },
  {
   "cell_type": "code",
   "execution_count": 7,
   "metadata": {},
   "outputs": [],
   "source": [
    "# For simulator hfss, the setup options are :\n",
    "# min_freq_ghz, n_modes, max_delta_f, max_passes, min_passes, min_converged=None,\n",
    "# pct_refinement, basis_order\n",
    "\n",
    "# If you don't pass all the arguments, the default is determined by \n",
    "# QHFSSRenderer's default_options.\n",
    "\n",
    "# If a setup named \"sweeper_em_setup\" exists in the project, it will be deleted, \n",
    "# and a new setup will be added.\n",
    "\n",
    "eig_qres.sim.setup.name=\"sweeper_em_setup\"\n",
    "eig_qres.sim.setup.min_freq_ghz=4\n",
    "eig_qres.sim.setup.n_modes=2\n",
    "eig_qres.sim.setup.max_passes=15\n",
    "eig_qres.sim.setup.min_converged = 2\n",
    "eig_qres.sim.setup.max_delta_f = 0.2\n",
    "\n",
    "eig_qres.setup.junctions.jj.rect = 'JJ_rect_Lj_Q1_rect_jj'\n",
    "eig_qres.setup.junctions.jj.line = 'JJ_Lj_Q1_rect_jj_'"
   ]
  },
  {
   "cell_type": "markdown",
   "metadata": {},
   "source": [
    "\n",
    "### - Connect to Ansys HFSS, eigenmode solution.\n",
    "### - Rebuild QComponents in Metal.\n",
    "### - Render QComponents within HFSS and setup.\n",
    "### - Delete/Clear the HFSS between each calculation of solution matrix.\n",
    "### - Calculate solution matrix for each value in option_sweep.\n",
    "\n",
    "#### Return a dict and return code.  If the return code is zero, there were no errors detected.  \n",
    "#### The dict has:  key = each value used to sweep, value = data from simulators\n",
    "\n",
    "#### This could take minutes based size of design."
   ]
  },
  {
   "cell_type": "code",
   "execution_count": 8,
   "metadata": {},
   "outputs": [
    {
     "name": "stderr",
     "output_type": "stream",
     "text": [
      "INFO 02:32PM [connect_project]: Connecting to Ansys Desktop API...\n",
      "INFO 02:32PM [load_ansys_project]: \tOpened Ansys App\n",
      "INFO 02:32PM [load_ansys_project]: \tOpened Ansys Desktop v2023.1.0\n",
      "INFO 02:32PM [load_ansys_project]: \tOpened Ansys Project\n",
      "\tFolder:    C:/Users/askev/OneDrive/文件/Ansoft/\n",
      "\tProject:   Project3\n",
      "INFO 02:32PM [connect_design]: \tOpened active design\n",
      "\tDesign:    HangerReso_hfss [Solution type: Eigenmode]\n",
      "INFO 02:32PM [get_setup]: \tOpened setup `Setup`  (<class 'pyEPR.ansys.HfssEMSetup'>)\n",
      "INFO 02:32PM [connect]: \tConnected to project \"Project3\" and design \"HangerReso_hfss\" 😀 \n",
      "\n",
      "INFO 02:32PM [connect_design]: \tOpened active design\n",
      "\tDesign:    GetEigenModeSolution_hfss [Solution type: Eigenmode]\n",
      "WARNING 02:32PM [connect_setup]: \tNo design setup detected.\n",
      "WARNING 02:32PM [connect_setup]: \tCreating eigenmode default setup.\n",
      "INFO 02:32PM [get_setup]: \tOpened setup `Setup`  (<class 'pyEPR.ansys.HfssEMSetup'>)\n",
      "INFO 02:33PM [get_setup]: \tOpened setup `sweeper_em_setup`  (<class 'pyEPR.ansys.HfssEMSetup'>)\n",
      "INFO 02:33PM [analyze]: Analyzing setup sweeper_em_setup\n",
      "03:00PM 36s INFO [get_f_convergence]: Saved convergences to C:\\Users\\askev\\qiskit-metal\\tutorials\\4 Analysis\\C. Parametric sweeps\\hfss_eig_f_convergence.csv\n"
     ]
    },
    {
     "name": "stdout",
     "output_type": "stream",
     "text": [
      "Design \"GetEigenModeSolution_hfss\" info:\n",
      "\t# eigenmodes    2\n",
      "\t# variations    1\n",
      "Design \"GetEigenModeSolution_hfss\" info:\n",
      "\t# eigenmodes    2\n",
      "\t# variations    1\n"
     ]
    },
    {
     "name": "stderr",
     "output_type": "stream",
     "text": [
      "WARNING:py.warnings:C:\\Users\\askev\\AppData\\Local\\Programs\\Python\\Python310\\lib\\site-packages\\pyEPR\\project_info.py:239: FutureWarning: The default dtype for empty Series will be 'object' instead of 'float64' in a future version. Specify a dtype explicitly to silence this warning.\n",
      "  options=pd.Series(get_instance_vars(self.options)),\n",
      "\n"
     ]
    },
    {
     "name": "stdout",
     "output_type": "stream",
     "text": [
      "\n",
      "        energy_elec_all       = 4.46055685058983e-25\n",
      "        energy_elec_substrate = 3.62915006868395e-25\n",
      "        EPR of substrate = 81.4%\n",
      "\n",
      "        energy_mag    = 6.90020898166949e-27\n",
      "        energy_mag % of energy_elec_all  = 1.5%\n",
      "        \n",
      "\n",
      "Variation 0  [1/1]\n"
     ]
    },
    {
     "name": "stderr",
     "output_type": "stream",
     "text": [
      "WARNING:py.warnings:C:\\Users\\askev\\AppData\\Local\\Programs\\Python\\Python310\\lib\\site-packages\\pyEPR\\core_distributed_analysis.py:1101: FutureWarning: The default dtype for empty Series will be 'object' instead of 'float64' in a future version. Specify a dtype explicitly to silence this warning.\n",
      "  Ljs = pd.Series({})\n",
      "\n",
      "WARNING:py.warnings:C:\\Users\\askev\\AppData\\Local\\Programs\\Python\\Python310\\lib\\site-packages\\pyEPR\\core_distributed_analysis.py:1102: FutureWarning: The default dtype for empty Series will be 'object' instead of 'float64' in a future version. Specify a dtype explicitly to silence this warning.\n",
      "  Cjs = pd.Series({})\n",
      "\n",
      "WARNING:py.warnings:C:\\Users\\askev\\AppData\\Local\\Programs\\Python\\Python310\\lib\\site-packages\\pyEPR\\core_distributed_analysis.py:1245: FutureWarning: The default dtype for empty Series will be 'object' instead of 'float64' in a future version. Specify a dtype explicitly to silence this warning.\n",
      "  _Om = pd.Series({})\n",
      "\n"
     ]
    },
    {
     "name": "stdout",
     "output_type": "stream",
     "text": [
      "\n",
      "  \u001b[1mMode 0 at 7.54 GHz   [1/2]\u001b[0m\n",
      "    Calculating ℰ_magnetic,ℰ_electric\n"
     ]
    },
    {
     "name": "stderr",
     "output_type": "stream",
     "text": [
      "WARNING:py.warnings:C:\\Users\\askev\\AppData\\Local\\Programs\\Python\\Python310\\lib\\site-packages\\pyEPR\\core_distributed_analysis.py:981: FutureWarning: The default dtype for empty Series will be 'object' instead of 'float64' in a future version. Specify a dtype explicitly to silence this warning.\n",
      "  Sj = pd.Series({})\n",
      "\n"
     ]
    },
    {
     "name": "stdout",
     "output_type": "stream",
     "text": [
      "       (ℰ_E-ℰ_H)/ℰ_E       ℰ_E       ℰ_H\n",
      "               98.5%   2.23e-25  3.45e-27\n",
      "\n",
      "    Calculating junction energy participation ration (EPR)\n",
      "\tmethod=`line_voltage`. First estimates:\n",
      "\tjunction        EPR p_0j   sign s_0j    (p_capacitive)\n"
     ]
    },
    {
     "name": "stderr",
     "output_type": "stream",
     "text": [
      "WARNING:py.warnings:C:\\Users\\askev\\AppData\\Local\\Programs\\Python\\Python310\\lib\\site-packages\\pyEPR\\core_distributed_analysis.py:933: FutureWarning: The default dtype for empty Series will be 'object' instead of 'float64' in a future version. Specify a dtype explicitly to silence this warning.\n",
      "  Qp = pd.Series({})\n",
      "\n"
     ]
    },
    {
     "name": "stdout",
     "output_type": "stream",
     "text": [
      "\t\tEnergy fraction (Lj over Lj&Cj)= 95.71%\n",
      "\tjj                1.6737  (+)        0.0750717\n",
      "\t\t(U_tot_cap-U_tot_ind)/mean=-22.22%\n",
      "WARNING: This simulation must not have converged well!!!                The difference in the total cap and ind energies is larger than 10%.                Proceed with caution.\n",
      "Calculating Qdielectric_main for mode 0 (0/1)\n"
     ]
    },
    {
     "name": "stderr",
     "output_type": "stream",
     "text": [
      "WARNING:py.warnings:C:\\Users\\askev\\AppData\\Local\\Programs\\Python\\Python310\\lib\\site-packages\\pyEPR\\core_distributed_analysis.py:1307: FutureWarning: The series.append method is deprecated and will be removed from pandas in a future version. Use pandas.concat instead.\n",
      "  sol = sol.append(self.get_Qdielectric(\n",
      "\n"
     ]
    },
    {
     "name": "stdout",
     "output_type": "stream",
     "text": [
      "p_dielectric_main_0 = 0.8136091950501783\n"
     ]
    },
    {
     "name": "stderr",
     "output_type": "stream",
     "text": [
      "WARNING:py.warnings:C:\\Users\\askev\\AppData\\Local\\Programs\\Python\\Python310\\lib\\site-packages\\pyEPR\\core_distributed_analysis.py:1245: FutureWarning: The default dtype for empty Series will be 'object' instead of 'float64' in a future version. Specify a dtype explicitly to silence this warning.\n",
      "  _Om = pd.Series({})\n",
      "\n"
     ]
    },
    {
     "name": "stdout",
     "output_type": "stream",
     "text": [
      "\n",
      "  \u001b[1mMode 1 at 8.85 GHz   [2/2]\u001b[0m\n",
      "    Calculating ℰ_magnetic,ℰ_electric\n"
     ]
    },
    {
     "name": "stderr",
     "output_type": "stream",
     "text": [
      "WARNING:py.warnings:C:\\Users\\askev\\AppData\\Local\\Programs\\Python\\Python310\\lib\\site-packages\\pyEPR\\core_distributed_analysis.py:981: FutureWarning: The default dtype for empty Series will be 'object' instead of 'float64' in a future version. Specify a dtype explicitly to silence this warning.\n",
      "  Sj = pd.Series({})\n",
      "\n"
     ]
    },
    {
     "name": "stdout",
     "output_type": "stream",
     "text": [
      "       (ℰ_E-ℰ_H)/ℰ_E       ℰ_E       ℰ_H\n",
      "                1.2%  2.743e-25 2.711e-25\n",
      "\n",
      "    Calculating junction energy participation ration (EPR)\n",
      "\tmethod=`line_voltage`. First estimates:\n",
      "\tjunction        EPR p_1j   sign s_1j    (p_capacitive)\n"
     ]
    },
    {
     "name": "stderr",
     "output_type": "stream",
     "text": [
      "WARNING:py.warnings:C:\\Users\\askev\\AppData\\Local\\Programs\\Python\\Python310\\lib\\site-packages\\pyEPR\\core_distributed_analysis.py:933: FutureWarning: The default dtype for empty Series will be 'object' instead of 'float64' in a future version. Specify a dtype explicitly to silence this warning.\n",
      "  Qp = pd.Series({})\n",
      "\n"
     ]
    },
    {
     "name": "stdout",
     "output_type": "stream",
     "text": [
      "\t\tEnergy fraction (Lj over Lj&Cj)= 94.17%\n",
      "\tjj              0.020064  (+)        0.00124146\n",
      "\t\t(U_tot_cap-U_tot_ind)/mean=-0.36%\n",
      "Calculating Qdielectric_main for mode 1 (1/1)\n"
     ]
    },
    {
     "name": "stderr",
     "output_type": "stream",
     "text": [
      "WARNING:py.warnings:C:\\Users\\askev\\AppData\\Local\\Programs\\Python\\Python310\\lib\\site-packages\\pyEPR\\core_distributed_analysis.py:1307: FutureWarning: The series.append method is deprecated and will be removed from pandas in a future version. Use pandas.concat instead.\n",
      "  sol = sol.append(self.get_Qdielectric(\n",
      "\n"
     ]
    },
    {
     "name": "stdout",
     "output_type": "stream",
     "text": [
      "p_dielectric_main_1 = 0.8118048524073621\n"
     ]
    },
    {
     "name": "stderr",
     "output_type": "stream",
     "text": [
      "03:01PM 27s WARNING [iterate_option_sweep]: For class EPRanalysis, run() did not execute as expected: An exception of type com_error occurred. Arguments:\n",
      "(-2147352567, '發生例外狀況。', (0, None, None, None, 0, -2147024382), None)\n",
      "INFO 03:01PM [connect_design]: \tOpened active design\n",
      "\tDesign:    GetEigenModeSolution_hfss [Solution type: Eigenmode]\n",
      "INFO 03:01PM [get_setup]: \tOpened setup `sweeper_em_setup`  (<class 'pyEPR.ansys.HfssEMSetup'>)\n",
      "INFO 03:01PM [analyze]: Analyzing setup sweeper_em_setup\n",
      "03:17PM 58s INFO [get_f_convergence]: Saved convergences to C:\\Users\\askev\\qiskit-metal\\tutorials\\4 Analysis\\C. Parametric sweeps\\hfss_eig_f_convergence.csv\n"
     ]
    },
    {
     "name": "stdout",
     "output_type": "stream",
     "text": [
      "Design \"GetEigenModeSolution_hfss\" info:\n",
      "\t# eigenmodes    2\n",
      "\t# variations    1\n",
      "Design \"GetEigenModeSolution_hfss\" info:\n",
      "\t# eigenmodes    2\n",
      "\t# variations    1\n"
     ]
    },
    {
     "name": "stderr",
     "output_type": "stream",
     "text": [
      "WARNING:py.warnings:C:\\Users\\askev\\AppData\\Local\\Programs\\Python\\Python310\\lib\\site-packages\\pyEPR\\project_info.py:239: FutureWarning: The default dtype for empty Series will be 'object' instead of 'float64' in a future version. Specify a dtype explicitly to silence this warning.\n",
      "  options=pd.Series(get_instance_vars(self.options)),\n",
      "\n"
     ]
    },
    {
     "name": "stdout",
     "output_type": "stream",
     "text": [
      "\n",
      "        energy_elec_all       = 6.18239829749961e-25\n",
      "        energy_elec_substrate = 5.02815138000042e-25\n",
      "        EPR of substrate = 81.3%\n",
      "\n",
      "        energy_mag    = 3.58334543855957e-26\n",
      "        energy_mag % of energy_elec_all  = 5.8%\n",
      "        \n",
      "\n",
      "Variation 0  [1/1]\n"
     ]
    },
    {
     "name": "stderr",
     "output_type": "stream",
     "text": [
      "WARNING:py.warnings:C:\\Users\\askev\\AppData\\Local\\Programs\\Python\\Python310\\lib\\site-packages\\pyEPR\\core_distributed_analysis.py:1101: FutureWarning: The default dtype for empty Series will be 'object' instead of 'float64' in a future version. Specify a dtype explicitly to silence this warning.\n",
      "  Ljs = pd.Series({})\n",
      "\n",
      "WARNING:py.warnings:C:\\Users\\askev\\AppData\\Local\\Programs\\Python\\Python310\\lib\\site-packages\\pyEPR\\core_distributed_analysis.py:1102: FutureWarning: The default dtype for empty Series will be 'object' instead of 'float64' in a future version. Specify a dtype explicitly to silence this warning.\n",
      "  Cjs = pd.Series({})\n",
      "\n",
      "WARNING:py.warnings:C:\\Users\\askev\\AppData\\Local\\Programs\\Python\\Python310\\lib\\site-packages\\pyEPR\\core_distributed_analysis.py:1245: FutureWarning: The default dtype for empty Series will be 'object' instead of 'float64' in a future version. Specify a dtype explicitly to silence this warning.\n",
      "  _Om = pd.Series({})\n",
      "\n"
     ]
    },
    {
     "name": "stdout",
     "output_type": "stream",
     "text": [
      "\n",
      "  \u001b[1mMode 0 at 7.50 GHz   [1/2]\u001b[0m\n",
      "    Calculating ℰ_magnetic,ℰ_electric\n"
     ]
    },
    {
     "name": "stderr",
     "output_type": "stream",
     "text": [
      "WARNING:py.warnings:C:\\Users\\askev\\AppData\\Local\\Programs\\Python\\Python310\\lib\\site-packages\\pyEPR\\core_distributed_analysis.py:981: FutureWarning: The default dtype for empty Series will be 'object' instead of 'float64' in a future version. Specify a dtype explicitly to silence this warning.\n",
      "  Sj = pd.Series({})\n",
      "\n"
     ]
    },
    {
     "name": "stdout",
     "output_type": "stream",
     "text": [
      "       (ℰ_E-ℰ_H)/ℰ_E       ℰ_E       ℰ_H\n",
      "               94.2%  3.091e-25 1.792e-26\n",
      "\n",
      "    Calculating junction energy participation ration (EPR)\n",
      "\tmethod=`line_voltage`. First estimates:\n",
      "\tjunction        EPR p_0j   sign s_0j    (p_capacitive)\n"
     ]
    },
    {
     "name": "stderr",
     "output_type": "stream",
     "text": [
      "WARNING:py.warnings:C:\\Users\\askev\\AppData\\Local\\Programs\\Python\\Python310\\lib\\site-packages\\pyEPR\\core_distributed_analysis.py:933: FutureWarning: The default dtype for empty Series will be 'object' instead of 'float64' in a future version. Specify a dtype explicitly to silence this warning.\n",
      "  Qp = pd.Series({})\n",
      "\n"
     ]
    },
    {
     "name": "stdout",
     "output_type": "stream",
     "text": [
      "\t\tEnergy fraction (Lj over Lj&Cj)= 95.75%\n",
      "\tjj               1.60148  (+)        0.0711229\n",
      "\t\t(U_tot_cap-U_tot_ind)/mean=-21.55%\n",
      "WARNING: This simulation must not have converged well!!!                The difference in the total cap and ind energies is larger than 10%.                Proceed with caution.\n",
      "Calculating Qdielectric_main for mode 0 (0/1)\n"
     ]
    },
    {
     "name": "stderr",
     "output_type": "stream",
     "text": [
      "WARNING:py.warnings:C:\\Users\\askev\\AppData\\Local\\Programs\\Python\\Python310\\lib\\site-packages\\pyEPR\\core_distributed_analysis.py:1307: FutureWarning: The series.append method is deprecated and will be removed from pandas in a future version. Use pandas.concat instead.\n",
      "  sol = sol.append(self.get_Qdielectric(\n",
      "\n"
     ]
    },
    {
     "name": "stdout",
     "output_type": "stream",
     "text": [
      "p_dielectric_main_0 = 0.813301107117927\n"
     ]
    },
    {
     "name": "stderr",
     "output_type": "stream",
     "text": [
      "WARNING:py.warnings:C:\\Users\\askev\\AppData\\Local\\Programs\\Python\\Python310\\lib\\site-packages\\pyEPR\\core_distributed_analysis.py:1245: FutureWarning: The default dtype for empty Series will be 'object' instead of 'float64' in a future version. Specify a dtype explicitly to silence this warning.\n",
      "  _Om = pd.Series({})\n",
      "\n"
     ]
    },
    {
     "name": "stdout",
     "output_type": "stream",
     "text": [
      "\n",
      "  \u001b[1mMode 1 at 8.07 GHz   [2/2]\u001b[0m\n",
      "    Calculating ℰ_magnetic,ℰ_electric\n"
     ]
    },
    {
     "name": "stderr",
     "output_type": "stream",
     "text": [
      "WARNING:py.warnings:C:\\Users\\askev\\AppData\\Local\\Programs\\Python\\Python310\\lib\\site-packages\\pyEPR\\core_distributed_analysis.py:981: FutureWarning: The default dtype for empty Series will be 'object' instead of 'float64' in a future version. Specify a dtype explicitly to silence this warning.\n",
      "  Sj = pd.Series({})\n",
      "\n"
     ]
    },
    {
     "name": "stdout",
     "output_type": "stream",
     "text": [
      "       (ℰ_E-ℰ_H)/ℰ_E       ℰ_E       ℰ_H\n",
      "                5.4%  9.689e-25 9.166e-25\n",
      "\n",
      "    Calculating junction energy participation ration (EPR)\n",
      "\tmethod=`line_voltage`. First estimates:\n",
      "\tjunction        EPR p_1j   sign s_1j    (p_capacitive)\n"
     ]
    },
    {
     "name": "stderr",
     "output_type": "stream",
     "text": [
      "WARNING:py.warnings:C:\\Users\\askev\\AppData\\Local\\Programs\\Python\\Python310\\lib\\site-packages\\pyEPR\\core_distributed_analysis.py:933: FutureWarning: The default dtype for empty Series will be 'object' instead of 'float64' in a future version. Specify a dtype explicitly to silence this warning.\n",
      "  Qp = pd.Series({})\n",
      "\n"
     ]
    },
    {
     "name": "stdout",
     "output_type": "stream",
     "text": [
      "\t\tEnergy fraction (Lj over Lj&Cj)= 95.10%\n",
      "\tjj              0.0920873  (+)        0.00474014\n",
      "\t\t(U_tot_cap-U_tot_ind)/mean=-1.63%\n",
      "Calculating Qdielectric_main for mode 1 (1/1)\n"
     ]
    },
    {
     "name": "stderr",
     "output_type": "stream",
     "text": [
      "WARNING:py.warnings:C:\\Users\\askev\\AppData\\Local\\Programs\\Python\\Python310\\lib\\site-packages\\pyEPR\\core_distributed_analysis.py:1307: FutureWarning: The series.append method is deprecated and will be removed from pandas in a future version. Use pandas.concat instead.\n",
      "  sol = sol.append(self.get_Qdielectric(\n",
      "\n"
     ]
    },
    {
     "name": "stdout",
     "output_type": "stream",
     "text": [
      "p_dielectric_main_1 = 0.8115575293464945\n"
     ]
    },
    {
     "name": "stderr",
     "output_type": "stream",
     "text": [
      "03:18PM 40s WARNING [iterate_option_sweep]: For class EPRanalysis, run() did not execute as expected: An exception of type com_error occurred. Arguments:\n",
      "(-2147352567, '發生例外狀況。', (0, None, None, None, 0, -2147024382), None)\n",
      "INFO 03:18PM [connect_design]: \tOpened active design\n",
      "\tDesign:    GetEigenModeSolution_hfss [Solution type: Eigenmode]\n",
      "INFO 03:18PM [get_setup]: \tOpened setup `sweeper_em_setup`  (<class 'pyEPR.ansys.HfssEMSetup'>)\n",
      "INFO 03:18PM [analyze]: Analyzing setup sweeper_em_setup\n",
      "03:35PM 31s INFO [get_f_convergence]: Saved convergences to C:\\Users\\askev\\qiskit-metal\\tutorials\\4 Analysis\\C. Parametric sweeps\\hfss_eig_f_convergence.csv\n"
     ]
    },
    {
     "name": "stdout",
     "output_type": "stream",
     "text": [
      "Design \"GetEigenModeSolution_hfss\" info:\n",
      "\t# eigenmodes    2\n",
      "\t# variations    1\n",
      "Design \"GetEigenModeSolution_hfss\" info:\n",
      "\t# eigenmodes    2\n",
      "\t# variations    1\n"
     ]
    },
    {
     "name": "stderr",
     "output_type": "stream",
     "text": [
      "WARNING:py.warnings:C:\\Users\\askev\\AppData\\Local\\Programs\\Python\\Python310\\lib\\site-packages\\pyEPR\\project_info.py:239: FutureWarning: The default dtype for empty Series will be 'object' instead of 'float64' in a future version. Specify a dtype explicitly to silence this warning.\n",
      "  options=pd.Series(get_instance_vars(self.options)),\n",
      "\n"
     ]
    },
    {
     "name": "stdout",
     "output_type": "stream",
     "text": [
      "\n",
      "        energy_elec_all       = 1.38985132647043e-24\n",
      "        energy_elec_substrate = 1.12800671305397e-24\n",
      "        EPR of substrate = 81.2%\n",
      "\n",
      "        energy_mag    = 1.10309214040925e-24\n",
      "        energy_mag % of energy_elec_all  = 79.4%\n",
      "        \n",
      "\n",
      "Variation 0  [1/1]\n"
     ]
    },
    {
     "name": "stderr",
     "output_type": "stream",
     "text": [
      "WARNING:py.warnings:C:\\Users\\askev\\AppData\\Local\\Programs\\Python\\Python310\\lib\\site-packages\\pyEPR\\core_distributed_analysis.py:1101: FutureWarning: The default dtype for empty Series will be 'object' instead of 'float64' in a future version. Specify a dtype explicitly to silence this warning.\n",
      "  Ljs = pd.Series({})\n",
      "\n",
      "WARNING:py.warnings:C:\\Users\\askev\\AppData\\Local\\Programs\\Python\\Python310\\lib\\site-packages\\pyEPR\\core_distributed_analysis.py:1102: FutureWarning: The default dtype for empty Series will be 'object' instead of 'float64' in a future version. Specify a dtype explicitly to silence this warning.\n",
      "  Cjs = pd.Series({})\n",
      "\n",
      "WARNING:py.warnings:C:\\Users\\askev\\AppData\\Local\\Programs\\Python\\Python310\\lib\\site-packages\\pyEPR\\core_distributed_analysis.py:1245: FutureWarning: The default dtype for empty Series will be 'object' instead of 'float64' in a future version. Specify a dtype explicitly to silence this warning.\n",
      "  _Om = pd.Series({})\n",
      "\n"
     ]
    },
    {
     "name": "stdout",
     "output_type": "stream",
     "text": [
      "\n",
      "  \u001b[1mMode 0 at 7.33 GHz   [1/2]\u001b[0m\n",
      "    Calculating ℰ_magnetic,ℰ_electric\n"
     ]
    },
    {
     "name": "stderr",
     "output_type": "stream",
     "text": [
      "WARNING:py.warnings:C:\\Users\\askev\\AppData\\Local\\Programs\\Python\\Python310\\lib\\site-packages\\pyEPR\\core_distributed_analysis.py:981: FutureWarning: The default dtype for empty Series will be 'object' instead of 'float64' in a future version. Specify a dtype explicitly to silence this warning.\n",
      "  Sj = pd.Series({})\n",
      "\n"
     ]
    },
    {
     "name": "stdout",
     "output_type": "stream",
     "text": [
      "       (ℰ_E-ℰ_H)/ℰ_E       ℰ_E       ℰ_H\n",
      "               20.6%  6.949e-25 5.515e-25\n",
      "\n",
      "    Calculating junction energy participation ration (EPR)\n",
      "\tmethod=`line_voltage`. First estimates:\n",
      "\tjunction        EPR p_0j   sign s_0j    (p_capacitive)\n"
     ]
    },
    {
     "name": "stderr",
     "output_type": "stream",
     "text": [
      "WARNING:py.warnings:C:\\Users\\askev\\AppData\\Local\\Programs\\Python\\Python310\\lib\\site-packages\\pyEPR\\core_distributed_analysis.py:933: FutureWarning: The default dtype for empty Series will be 'object' instead of 'float64' in a future version. Specify a dtype explicitly to silence this warning.\n",
      "  Qp = pd.Series({})\n",
      "\n"
     ]
    },
    {
     "name": "stdout",
     "output_type": "stream",
     "text": [
      "\t\tEnergy fraction (Lj over Lj&Cj)= 95.93%\n",
      "\tjj              0.350666  (+)        0.0148776\n",
      "\t\t(U_tot_cap-U_tot_ind)/mean=-6.00%\n",
      "Calculating Qdielectric_main for mode 0 (0/1)\n"
     ]
    },
    {
     "name": "stderr",
     "output_type": "stream",
     "text": [
      "WARNING:py.warnings:C:\\Users\\askev\\AppData\\Local\\Programs\\Python\\Python310\\lib\\site-packages\\pyEPR\\core_distributed_analysis.py:1307: FutureWarning: The series.append method is deprecated and will be removed from pandas in a future version. Use pandas.concat instead.\n",
      "  sol = sol.append(self.get_Qdielectric(\n",
      "\n"
     ]
    },
    {
     "name": "stdout",
     "output_type": "stream",
     "text": [
      "p_dielectric_main_0 = 0.8116024293897518\n"
     ]
    },
    {
     "name": "stderr",
     "output_type": "stream",
     "text": [
      "WARNING:py.warnings:C:\\Users\\askev\\AppData\\Local\\Programs\\Python\\Python310\\lib\\site-packages\\pyEPR\\core_distributed_analysis.py:1245: FutureWarning: The default dtype for empty Series will be 'object' instead of 'float64' in a future version. Specify a dtype explicitly to silence this warning.\n",
      "  _Om = pd.Series({})\n",
      "\n"
     ]
    },
    {
     "name": "stdout",
     "output_type": "stream",
     "text": [
      "\n",
      "  \u001b[1mMode 1 at 7.62 GHz   [2/2]\u001b[0m\n",
      "    Calculating ℰ_magnetic,ℰ_electric\n"
     ]
    },
    {
     "name": "stderr",
     "output_type": "stream",
     "text": [
      "WARNING:py.warnings:C:\\Users\\askev\\AppData\\Local\\Programs\\Python\\Python310\\lib\\site-packages\\pyEPR\\core_distributed_analysis.py:981: FutureWarning: The default dtype for empty Series will be 'object' instead of 'float64' in a future version. Specify a dtype explicitly to silence this warning.\n",
      "  Sj = pd.Series({})\n",
      "\n"
     ]
    },
    {
     "name": "stdout",
     "output_type": "stream",
     "text": [
      "       (ℰ_E-ℰ_H)/ℰ_E       ℰ_E       ℰ_H\n",
      "               79.0%  4.349e-25 9.151e-26\n",
      "\n",
      "    Calculating junction energy participation ration (EPR)\n",
      "\tmethod=`line_voltage`. First estimates:\n",
      "\tjunction        EPR p_1j   sign s_1j    (p_capacitive)\n"
     ]
    },
    {
     "name": "stderr",
     "output_type": "stream",
     "text": [
      "WARNING:py.warnings:C:\\Users\\askev\\AppData\\Local\\Programs\\Python\\Python310\\lib\\site-packages\\pyEPR\\core_distributed_analysis.py:933: FutureWarning: The default dtype for empty Series will be 'object' instead of 'float64' in a future version. Specify a dtype explicitly to silence this warning.\n",
      "  Qp = pd.Series({})\n",
      "\n"
     ]
    },
    {
     "name": "stdout",
     "output_type": "stream",
     "text": [
      "\t\tEnergy fraction (Lj over Lj&Cj)= 95.62%\n",
      "\tjj               1.34101  (+)        0.0614871\n",
      "\t\t(U_tot_cap-U_tot_ind)/mean=-18.75%\n",
      "WARNING: This simulation must not have converged well!!!                The difference in the total cap and ind energies is larger than 10%.                Proceed with caution.\n",
      "Calculating Qdielectric_main for mode 1 (1/1)\n"
     ]
    },
    {
     "name": "stderr",
     "output_type": "stream",
     "text": [
      "WARNING:py.warnings:C:\\Users\\askev\\AppData\\Local\\Programs\\Python\\Python310\\lib\\site-packages\\pyEPR\\core_distributed_analysis.py:1307: FutureWarning: The series.append method is deprecated and will be removed from pandas in a future version. Use pandas.concat instead.\n",
      "  sol = sol.append(self.get_Qdielectric(\n",
      "\n"
     ]
    },
    {
     "name": "stdout",
     "output_type": "stream",
     "text": [
      "p_dielectric_main_1 = 0.813275110797672\n"
     ]
    },
    {
     "name": "stderr",
     "output_type": "stream",
     "text": [
      "03:36PM 13s WARNING [iterate_option_sweep]: For class EPRanalysis, run() did not execute as expected: An exception of type com_error occurred. Arguments:\n",
      "(-2147352567, '發生例外狀況。', (0, None, None, None, 0, -2147024382), None)\n"
     ]
    }
   ],
   "source": [
    "#Note: The method will connect to Ansys, activate_eigenmode_design(), add_eigenmode_setup().\n",
    "\n",
    "all_sweeps, return_code = eig_qres.run_sweep(readout.name,\n",
    "                                        'total_length', \n",
    "                                        ['10mm', '11mm', '12mm'],\n",
    "                                        render_qcomps,\n",
    "                                        open_terminations,\n",
    "                                         ignored_jjs=render_ignored_jjs,\n",
    "                                        design_name=\"GetEigenModeSolution\", \n",
    "                                       box_plus_buffer=box_plus_buffer\n",
    "                                      )\n"
   ]
  },
  {
   "cell_type": "code",
   "execution_count": 9,
   "metadata": {},
   "outputs": [
    {
     "data": {
      "text/plain": [
       "dict_keys(['10mm', '11mm', '12mm'])"
      ]
     },
     "execution_count": 9,
     "metadata": {},
     "output_type": "execute_result"
    }
   ],
   "source": [
    "all_sweeps.keys()"
   ]
  },
  {
   "cell_type": "code",
   "execution_count": 10,
   "metadata": {},
   "outputs": [
    {
     "data": {
      "text/plain": [
       "dict_keys(['option_name', 'variables', 'sim_variables'])"
      ]
     },
     "execution_count": 10,
     "metadata": {},
     "output_type": "execute_result"
    }
   ],
   "source": [
    "# For example, just one group of solution data.\n",
    "all_sweeps['10mm'].keys()\n"
   ]
  },
  {
   "cell_type": "code",
   "execution_count": 11,
   "metadata": {},
   "outputs": [
    {
     "data": {
      "text/plain": [
       "{'option_name': 'total_length',\n",
       " 'variables': {'energy_elec': 4.46055685058983e-25,\n",
       "  'energy_elec_sub': 3.62915006868395e-25,\n",
       "  'energy_mag': 6.90020898166949e-27},\n",
       " 'sim_variables': {'sim_setup_name': 'sweeper_em_setup',\n",
       "  'convergence_t':              Solved Elements  Max Delta Freq. %\n",
       "  Pass Number                                    \n",
       "  1                      12901                NaN\n",
       "  2                      16773           22.64400\n",
       "  3                      21809            8.93140\n",
       "  4                      27824            6.06480\n",
       "  5                      34773            3.33890\n",
       "  6                      45211            2.10040\n",
       "  7                      58789            1.63620\n",
       "  8                      76432            1.04290\n",
       "  9                      99364            0.59636\n",
       "  10                    129178            0.33703\n",
       "  11                    167931            0.33750\n",
       "  12                    218311            0.30980\n",
       "  13                    283795            0.45558\n",
       "  14                    368908            0.32816\n",
       "  15                    479514            0.13947,\n",
       "  'convergence_f':          re(Mode(1)) [g]  re(Mode(2)) [g]\n",
       "  Pass []                                  \n",
       "  1               4.988856         6.339131\n",
       "  2               6.118529         7.161170\n",
       "  3               6.665001         7.586173\n",
       "  4               7.000362         8.046258\n",
       "  5               7.173020         8.314917\n",
       "  6               7.279428         8.489565\n",
       "  7               7.335418         8.628472\n",
       "  8               7.373493         8.718458\n",
       "  9               7.401210         8.770451\n",
       "  10              7.419855         8.800010\n",
       "  11              7.444897         8.820319\n",
       "  12              7.467961         8.828455\n",
       "  13              7.501984         8.833219\n",
       "  14              7.526603         8.842628\n",
       "  15              7.537100         8.852431}}"
      ]
     },
     "execution_count": 11,
     "metadata": {},
     "output_type": "execute_result"
    }
   ],
   "source": [
    "all_sweeps['10mm']\n"
   ]
  },
  {
   "cell_type": "code",
   "execution_count": 12,
   "metadata": {},
   "outputs": [
    {
     "data": {
      "text/plain": [
       "{'energy_elec': 4.46055685058983e-25,\n",
       " 'energy_elec_sub': 3.62915006868395e-25,\n",
       " 'energy_mag': 6.90020898166949e-27}"
      ]
     },
     "execution_count": 12,
     "metadata": {},
     "output_type": "execute_result"
    }
   ],
   "source": [
    "all_sweeps['10mm']['variables']"
   ]
  },
  {
   "cell_type": "code",
   "execution_count": 13,
   "metadata": {},
   "outputs": [
    {
     "data": {
      "text/html": [
       "<div>\n",
       "<style scoped>\n",
       "    .dataframe tbody tr th:only-of-type {\n",
       "        vertical-align: middle;\n",
       "    }\n",
       "\n",
       "    .dataframe tbody tr th {\n",
       "        vertical-align: top;\n",
       "    }\n",
       "\n",
       "    .dataframe thead th {\n",
       "        text-align: right;\n",
       "    }\n",
       "</style>\n",
       "<table border=\"1\" class=\"dataframe\">\n",
       "  <thead>\n",
       "    <tr style=\"text-align: right;\">\n",
       "      <th></th>\n",
       "      <th>Solved Elements</th>\n",
       "      <th>Max Delta Freq. %</th>\n",
       "    </tr>\n",
       "    <tr>\n",
       "      <th>Pass Number</th>\n",
       "      <th></th>\n",
       "      <th></th>\n",
       "    </tr>\n",
       "  </thead>\n",
       "  <tbody>\n",
       "    <tr>\n",
       "      <th>1</th>\n",
       "      <td>12901</td>\n",
       "      <td>NaN</td>\n",
       "    </tr>\n",
       "    <tr>\n",
       "      <th>2</th>\n",
       "      <td>16773</td>\n",
       "      <td>22.64400</td>\n",
       "    </tr>\n",
       "    <tr>\n",
       "      <th>3</th>\n",
       "      <td>21809</td>\n",
       "      <td>8.93140</td>\n",
       "    </tr>\n",
       "    <tr>\n",
       "      <th>4</th>\n",
       "      <td>27824</td>\n",
       "      <td>6.06480</td>\n",
       "    </tr>\n",
       "    <tr>\n",
       "      <th>5</th>\n",
       "      <td>34773</td>\n",
       "      <td>3.33890</td>\n",
       "    </tr>\n",
       "    <tr>\n",
       "      <th>6</th>\n",
       "      <td>45211</td>\n",
       "      <td>2.10040</td>\n",
       "    </tr>\n",
       "    <tr>\n",
       "      <th>7</th>\n",
       "      <td>58789</td>\n",
       "      <td>1.63620</td>\n",
       "    </tr>\n",
       "    <tr>\n",
       "      <th>8</th>\n",
       "      <td>76432</td>\n",
       "      <td>1.04290</td>\n",
       "    </tr>\n",
       "    <tr>\n",
       "      <th>9</th>\n",
       "      <td>99364</td>\n",
       "      <td>0.59636</td>\n",
       "    </tr>\n",
       "    <tr>\n",
       "      <th>10</th>\n",
       "      <td>129178</td>\n",
       "      <td>0.33703</td>\n",
       "    </tr>\n",
       "    <tr>\n",
       "      <th>11</th>\n",
       "      <td>167931</td>\n",
       "      <td>0.33750</td>\n",
       "    </tr>\n",
       "    <tr>\n",
       "      <th>12</th>\n",
       "      <td>218311</td>\n",
       "      <td>0.30980</td>\n",
       "    </tr>\n",
       "    <tr>\n",
       "      <th>13</th>\n",
       "      <td>283795</td>\n",
       "      <td>0.45558</td>\n",
       "    </tr>\n",
       "    <tr>\n",
       "      <th>14</th>\n",
       "      <td>368908</td>\n",
       "      <td>0.32816</td>\n",
       "    </tr>\n",
       "    <tr>\n",
       "      <th>15</th>\n",
       "      <td>479514</td>\n",
       "      <td>0.13947</td>\n",
       "    </tr>\n",
       "  </tbody>\n",
       "</table>\n",
       "</div>"
      ],
      "text/plain": [
       "             Solved Elements  Max Delta Freq. %\n",
       "Pass Number                                    \n",
       "1                      12901                NaN\n",
       "2                      16773           22.64400\n",
       "3                      21809            8.93140\n",
       "4                      27824            6.06480\n",
       "5                      34773            3.33890\n",
       "6                      45211            2.10040\n",
       "7                      58789            1.63620\n",
       "8                      76432            1.04290\n",
       "9                      99364            0.59636\n",
       "10                    129178            0.33703\n",
       "11                    167931            0.33750\n",
       "12                    218311            0.30980\n",
       "13                    283795            0.45558\n",
       "14                    368908            0.32816\n",
       "15                    479514            0.13947"
      ]
     },
     "execution_count": 13,
     "metadata": {},
     "output_type": "execute_result"
    }
   ],
   "source": [
    "all_sweeps['10mm']['sim_variables']['convergence_t']"
   ]
  },
  {
   "cell_type": "code",
   "execution_count": 14,
   "metadata": {},
   "outputs": [
    {
     "data": {
      "text/html": [
       "<div>\n",
       "<style scoped>\n",
       "    .dataframe tbody tr th:only-of-type {\n",
       "        vertical-align: middle;\n",
       "    }\n",
       "\n",
       "    .dataframe tbody tr th {\n",
       "        vertical-align: top;\n",
       "    }\n",
       "\n",
       "    .dataframe thead th {\n",
       "        text-align: right;\n",
       "    }\n",
       "</style>\n",
       "<table border=\"1\" class=\"dataframe\">\n",
       "  <thead>\n",
       "    <tr style=\"text-align: right;\">\n",
       "      <th></th>\n",
       "      <th>re(Mode(1)) [g]</th>\n",
       "      <th>re(Mode(2)) [g]</th>\n",
       "    </tr>\n",
       "    <tr>\n",
       "      <th>Pass []</th>\n",
       "      <th></th>\n",
       "      <th></th>\n",
       "    </tr>\n",
       "  </thead>\n",
       "  <tbody>\n",
       "    <tr>\n",
       "      <th>1</th>\n",
       "      <td>4.988856</td>\n",
       "      <td>6.339131</td>\n",
       "    </tr>\n",
       "    <tr>\n",
       "      <th>2</th>\n",
       "      <td>6.118529</td>\n",
       "      <td>7.161170</td>\n",
       "    </tr>\n",
       "    <tr>\n",
       "      <th>3</th>\n",
       "      <td>6.665001</td>\n",
       "      <td>7.586173</td>\n",
       "    </tr>\n",
       "    <tr>\n",
       "      <th>4</th>\n",
       "      <td>7.000362</td>\n",
       "      <td>8.046258</td>\n",
       "    </tr>\n",
       "    <tr>\n",
       "      <th>5</th>\n",
       "      <td>7.173020</td>\n",
       "      <td>8.314917</td>\n",
       "    </tr>\n",
       "    <tr>\n",
       "      <th>6</th>\n",
       "      <td>7.279428</td>\n",
       "      <td>8.489565</td>\n",
       "    </tr>\n",
       "    <tr>\n",
       "      <th>7</th>\n",
       "      <td>7.335418</td>\n",
       "      <td>8.628472</td>\n",
       "    </tr>\n",
       "    <tr>\n",
       "      <th>8</th>\n",
       "      <td>7.373493</td>\n",
       "      <td>8.718458</td>\n",
       "    </tr>\n",
       "    <tr>\n",
       "      <th>9</th>\n",
       "      <td>7.401210</td>\n",
       "      <td>8.770451</td>\n",
       "    </tr>\n",
       "    <tr>\n",
       "      <th>10</th>\n",
       "      <td>7.419855</td>\n",
       "      <td>8.800010</td>\n",
       "    </tr>\n",
       "    <tr>\n",
       "      <th>11</th>\n",
       "      <td>7.444897</td>\n",
       "      <td>8.820319</td>\n",
       "    </tr>\n",
       "    <tr>\n",
       "      <th>12</th>\n",
       "      <td>7.467961</td>\n",
       "      <td>8.828455</td>\n",
       "    </tr>\n",
       "    <tr>\n",
       "      <th>13</th>\n",
       "      <td>7.501984</td>\n",
       "      <td>8.833219</td>\n",
       "    </tr>\n",
       "    <tr>\n",
       "      <th>14</th>\n",
       "      <td>7.526603</td>\n",
       "      <td>8.842628</td>\n",
       "    </tr>\n",
       "    <tr>\n",
       "      <th>15</th>\n",
       "      <td>7.537100</td>\n",
       "      <td>8.852431</td>\n",
       "    </tr>\n",
       "  </tbody>\n",
       "</table>\n",
       "</div>"
      ],
      "text/plain": [
       "         re(Mode(1)) [g]  re(Mode(2)) [g]\n",
       "Pass []                                  \n",
       "1               4.988856         6.339131\n",
       "2               6.118529         7.161170\n",
       "3               6.665001         7.586173\n",
       "4               7.000362         8.046258\n",
       "5               7.173020         8.314917\n",
       "6               7.279428         8.489565\n",
       "7               7.335418         8.628472\n",
       "8               7.373493         8.718458\n",
       "9               7.401210         8.770451\n",
       "10              7.419855         8.800010\n",
       "11              7.444897         8.820319\n",
       "12              7.467961         8.828455\n",
       "13              7.501984         8.833219\n",
       "14              7.526603         8.842628\n",
       "15              7.537100         8.852431"
      ]
     },
     "execution_count": 14,
     "metadata": {},
     "output_type": "execute_result"
    }
   ],
   "source": [
    "all_sweeps['10mm']['sim_variables']['convergence_f']"
   ]
  },
  {
   "cell_type": "code",
   "execution_count": 15,
   "metadata": {},
   "outputs": [],
   "source": [
    "# Uncomment the next close simulation software. \n",
    "#eig_qres.sim.close()"
   ]
  },
  {
   "cell_type": "code",
   "execution_count": 16,
   "metadata": {
    "tags": []
   },
   "outputs": [],
   "source": [
    "# Uncomment next line if you would like to close the gui\n",
    "#gui.main_window.close()"
   ]
  }
 ],
 "metadata": {
  "kernelspec": {
   "display_name": "Python 3 (ipykernel)",
   "language": "python",
   "name": "python3"
  },
  "language_info": {
   "codemirror_mode": {
    "name": "ipython",
    "version": 3
   },
   "file_extension": ".py",
   "mimetype": "text/x-python",
   "name": "python",
   "nbconvert_exporter": "python",
   "pygments_lexer": "ipython3",
   "version": "3.10.0"
  }
 },
 "nbformat": 4,
 "nbformat_minor": 4
}

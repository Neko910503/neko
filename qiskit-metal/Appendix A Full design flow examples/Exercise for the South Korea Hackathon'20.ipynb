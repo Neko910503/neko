{
 "cells": [
  {
   "cell_type": "markdown",
   "metadata": {},
   "source": [
    "# South Korea Qiskit Hackathon'20 - Qiskit Metal exercise\n",
    "\n",
    "## Preparation"
   ]
  },
  {
   "cell_type": "code",
   "execution_count": 1,
   "metadata": {},
   "outputs": [],
   "source": [
    "%load_ext autoreload\n",
    "%autoreload 2"
   ]
  },
  {
   "cell_type": "markdown",
   "metadata": {},
   "source": [
    "*Make sure to have the right kernel selected!*"
   ]
  },
  {
   "cell_type": "code",
   "execution_count": 2,
   "metadata": {},
   "outputs": [
    {
     "data": {
      "text/html": [
       "\n",
       "    <h1 style=\"\n",
       "        background: #12c2e9;  /* fallback for old browsers */\n",
       "        background: -webkit-linear-gradient(to right, #d4418e 0%, #0652c5 74%);  /* Chrome 10-25, Safari 5.1-6 */\n",
       "        background: linear-gradient(315deg, #d4418e 0%, #0652c5 74%); /* W3C, IE 10+/ Edge, Firefox 16+, Chrome 26+, Opera 12+, Safari 7+ */\n",
       "        margin-top: 50px;\n",
       "        border-style: outset;\n",
       "        padding-top:100px;\n",
       "        padding-bottom:50px;\n",
       "        padding-left:25px;\n",
       "        color: white;\n",
       "    \"> Welcome to Qiskit Metal! <h1>\n",
       "        "
      ],
      "text/plain": [
       "<IPython.core.display.HTML object>"
      ]
     },
     "metadata": {},
     "output_type": "display_data"
    }
   ],
   "source": [
    "import qiskit_metal as metal\n",
    "from qiskit_metal import designs, draw\n",
    "from qiskit_metal import MetalGUI, Dict, open_docs\n",
    "\n",
    "%metal_heading Welcome to Qiskit Metal!"
   ]
  },
  {
   "cell_type": "markdown",
   "metadata": {},
   "source": [
    "Welcome to Qiskit Metal! \n",
    "\n",
    "For this example tutorial, we will attempt to create a simple two qubit chip. We will want to generate the layout, simulate/analyze and tune the chip to hit the parameters we are wanting, finally rendering to a GDS file.\n",
    "\n",
    "One could generate subsections of the layout and tune individual components first, but in this case we will create all of the layout. We will want a transmon (in this case choosing ones with charge lines), meandered and simple transmission lines, capacitor couplers, and launchers for wirebond connections. So we will import these, and also create a design instance and launch the GUI."
   ]
  },
  {
   "cell_type": "markdown",
   "metadata": {},
   "source": [
    "## Design the layout"
   ]
  },
  {
   "cell_type": "code",
   "execution_count": 3,
   "metadata": {},
   "outputs": [],
   "source": [
    "from qiskit_metal.qlibrary.qubits.transmon_pocket_cl import TransmonPocketCL\n",
    "\n",
    "from qiskit_metal.qlibrary.tlines.meandered import RouteMeander\n",
    "from qiskit_metal.qlibrary.tlines.pathfinder import RoutePathfinder\n",
    "\n",
    "from qiskit_metal.qlibrary.lumped.cap_3_interdigital import Cap3Interdigital\n",
    "from qiskit_metal.qlibrary.terminations.launchpad_wb import LaunchpadWirebond"
   ]
  },
  {
   "cell_type": "code",
   "execution_count": 4,
   "metadata": {},
   "outputs": [],
   "source": [
    "design = metal.designs.DesignPlanar()\n",
    "gui = metal.MetalGUI(design)"
   ]
  },
  {
   "cell_type": "markdown",
   "metadata": {},
   "source": [
    "Since we are likely to be making many changes while tuning and modifying our design, we will enable overwriting. We can also check all of the chip properties to see if we want to change the size or any other parameter."
   ]
  },
  {
   "cell_type": "code",
   "execution_count": 5,
   "metadata": {},
   "outputs": [
    {
     "data": {
      "text/plain": [
       "{'material': 'silicon',\n",
       " 'layer_start': '0',\n",
       " 'layer_end': '2048',\n",
       " 'size': {'center_x': '0.0mm',\n",
       "  'center_y': '0.0mm',\n",
       "  'center_z': '0.0mm',\n",
       "  'size_x': '9mm',\n",
       "  'size_y': '6mm',\n",
       "  'size_z': '-750um',\n",
       "  'sample_holder_top': '890um',\n",
       "  'sample_holder_bottom': '1650um'}}"
      ]
     },
     "execution_count": 5,
     "metadata": {},
     "output_type": "execute_result"
    }
   ],
   "source": [
    "design.overwrite_enabled = True\n",
    "design.chips.main"
   ]
  },
  {
   "cell_type": "markdown",
   "metadata": {},
   "source": [
    "We will add the two qubits. We know we will want each qubit to have two connection pads, one for readout, and another for the connection to the other qubit. We can see any options the qubit qcomponent has to figure out what we might want to modify when creating the component. This will include the components default options (which the component designer included) as well as renderer options (which are added based on what renderers are present in Metal)."
   ]
  },
  {
   "cell_type": "code",
   "execution_count": 6,
   "metadata": {},
   "outputs": [
    {
     "data": {
      "text/plain": [
       "{'pos_x': '0.0um',\n",
       " 'pos_y': '0.0um',\n",
       " 'orientation': '0.0',\n",
       " 'chip': 'main',\n",
       " 'layer': '1',\n",
       " 'connection_pads': {},\n",
       " '_default_connection_pads': {'pad_gap': '15um',\n",
       "  'pad_width': '125um',\n",
       "  'pad_height': '30um',\n",
       "  'pad_cpw_shift': '5um',\n",
       "  'pad_cpw_extent': '25um',\n",
       "  'cpw_width': 'cpw_width',\n",
       "  'cpw_gap': 'cpw_gap',\n",
       "  'cpw_extend': '100um',\n",
       "  'pocket_extent': '5um',\n",
       "  'pocket_rise': '65um',\n",
       "  'loc_W': '+1',\n",
       "  'loc_H': '+1'},\n",
       " 'pad_gap': '30um',\n",
       " 'inductor_width': '20um',\n",
       " 'pad_width': '455um',\n",
       " 'pad_height': '90um',\n",
       " 'pocket_width': '650um',\n",
       " 'pocket_height': '650um',\n",
       " 'make_CL': True,\n",
       " 'cl_gap': '6um',\n",
       " 'cl_width': '10um',\n",
       " 'cl_length': '20um',\n",
       " 'cl_ground_gap': '6um',\n",
       " 'cl_pocket_edge': '0',\n",
       " 'cl_off_center': '50um',\n",
       " 'hfss_wire_bonds': False,\n",
       " 'q3d_wire_bonds': False,\n",
       " 'hfss_inductance': '10nH',\n",
       " 'hfss_capacitance': 0,\n",
       " 'hfss_resistance': 0,\n",
       " 'hfss_mesh_kw_jj': 7e-06,\n",
       " 'q3d_inductance': '10nH',\n",
       " 'q3d_capacitance': 0,\n",
       " 'q3d_resistance': 0,\n",
       " 'q3d_mesh_kw_jj': 7e-06,\n",
       " 'gds_cell_name': 'my_other_junction'}"
      ]
     },
     "execution_count": 6,
     "metadata": {},
     "output_type": "execute_result"
    }
   ],
   "source": [
    "TransmonPocketCL.get_template_options(design)"
   ]
  },
  {
   "cell_type": "markdown",
   "metadata": {},
   "source": [
    "We will then add those two qubits with the options we are wanting to define, these can all be modified easily later too.\n",
    "The rebuild command is included so the changes can be seen immediately in the GUI."
   ]
  },
  {
   "cell_type": "code",
   "execution_count": 7,
   "metadata": {},
   "outputs": [],
   "source": [
    "options =  dict(\n",
    "    pad_width = '425 um', \n",
    "    pocket_height = '650um',\n",
    "    cl_pocket_edge = '180',\n",
    "    connection_pads=dict(\n",
    "        readout = dict(loc_W=+1, loc_H=+1),\n",
    "        bus = dict(loc_W=-1, loc_H=-1, )\n",
    "    ))\n",
    "        \n",
    "Q1 = TransmonPocketCL(design,'Q1', options = dict(\n",
    "        pos_x='0.7mm', \n",
    "        pos_y='0mm', \n",
    "        gds_cell_name ='FakeJunction_01',\n",
    "        hfss_inductance ='14nH',\n",
    "        **options))\n",
    "\n",
    "Q2 = TransmonPocketCL(design,'Q2', options = dict(\n",
    "        pos_x='-0.7mm', \n",
    "        pos_y='0mm', \n",
    "        gds_cell_name ='FakeJunction_02',\n",
    "        hfss_inductance ='12nH',\n",
    "        orientation = '180',\n",
    "        **options))\n",
    "\n",
    "gui.rebuild()\n",
    "gui.autoscale()"
   ]
  },
  {
   "cell_type": "markdown",
   "metadata": {},
   "source": [
    "We will next connect the two transmons together to form a bus using RoutePathfinder, an auto drawing CPW transmission line. We simply have to give the start and end location using the component pins of what we are trying to connect to.\n",
    "We can use the GUI to confirm the pin names we want to give as inputs.\n",
    "\n",
    "Pins also play an important role with rendering and simulations, as any unconnected pin can be defined as a short, open, or driven terminal."
   ]
  },
  {
   "cell_type": "code",
   "execution_count": 8,
   "metadata": {},
   "outputs": [],
   "source": [
    "bus_Q1_Q2 = RoutePathfinder(design, 'Bus_Q1_Q2', options = dict(\n",
    "                                            fillet='99um',\n",
    "                                            lead=dict(end_straight='250um'),\n",
    "                                            pin_inputs=Dict(\n",
    "                                                start_pin=Dict(\n",
    "                                                    component='Q1',\n",
    "                                                    pin='bus'),\n",
    "                                                end_pin=Dict(\n",
    "                                                    component='Q2',\n",
    "                                                    pin='bus')\n",
    "                                            )))\n",
    "\n",
    "gui.rebuild()\n",
    "gui.autoscale()"
   ]
  },
  {
   "cell_type": "markdown",
   "metadata": {},
   "source": [
    "Then the readout structures can be added, being the capacitor couplers and meandered transmission lines to form the readout resonators. "
   ]
  },
  {
   "cell_type": "code",
   "execution_count": 9,
   "metadata": {},
   "outputs": [],
   "source": [
    "cap_Q1 = Cap3Interdigital(design, 'Cap_Q1', options= dict(pos_x='2.5mm', pos_y='0.25mm', orientation='90', finger_length = '40um'))\n",
    "cap_Q2 = Cap3Interdigital(design, 'Cap_Q2', options= dict(pos_x='-2.5mm', pos_y='-0.25mm', orientation='-90', finger_length = '40um'))\n",
    "\n",
    "gui.rebuild()\n",
    "gui.autoscale()"
   ]
  },
  {
   "cell_type": "code",
   "execution_count": 10,
   "metadata": {},
   "outputs": [],
   "source": [
    "readout_Q1 = RouteMeander(design,'Readout_Q1', options = dict( \n",
    "                                            pin_inputs=Dict(\n",
    "                                                start_pin=Dict(\n",
    "                                                    component='Q1',\n",
    "                                                    pin='readout'),\n",
    "                                                end_pin=Dict(\n",
    "                                                    component='Cap_Q1',\n",
    "                                                    pin='a')\n",
    "                                            ),\n",
    "                                            lead=Dict(\n",
    "                                                start_straight='0.325mm',\n",
    "                                                end_straight = '125um'#put jogs here\n",
    "                                            ),\n",
    "                                            meander=Dict(\n",
    "                                                asymmetry = '-50um'),\n",
    "                                            fillet = \"99um\",\n",
    "                                            total_length = '5mm'))\n",
    "\n",
    "gui.rebuild()\n",
    "gui.autoscale()"
   ]
  },
  {
   "cell_type": "code",
   "execution_count": 11,
   "metadata": {},
   "outputs": [],
   "source": [
    "readout_Q2 = RouteMeander(design,'Readout_Q2', options = dict( \n",
    "                                            pin_inputs=Dict(\n",
    "                                                start_pin=Dict(\n",
    "                                                    component='Q2',\n",
    "                                                    pin='readout'),\n",
    "                                                end_pin=Dict(\n",
    "                                                    component='Cap_Q2',\n",
    "                                                    pin='a')\n",
    "                                            ),\n",
    "                                            lead=Dict(\n",
    "                                                start_straight='0.325mm',\n",
    "                                                end_straight = '125um'#put jogs here\n",
    "                                            ),\n",
    "                                            meander=Dict(\n",
    "                                                asymmetry = '-50um'),\n",
    "                                            fillet = \"99um\",\n",
    "                                            total_length = '6mm'))\n",
    "\n",
    "gui.rebuild()\n",
    "gui.autoscale()"
   ]
  },
  {
   "cell_type": "markdown",
   "metadata": {},
   "source": [
    "With the launchers and short transmission lines to connect them to the capacitors and the charge lines."
   ]
  },
  {
   "cell_type": "code",
   "execution_count": 12,
   "metadata": {},
   "outputs": [],
   "source": [
    "launch_Q1_read = LaunchpadWirebond(design, 'Launch_Q1_Read', options = dict(pos_x = '3.5mm', orientation = '180'))\n",
    "launch_Q2_read = LaunchpadWirebond(design, 'Launch_Q2_Read', options = dict(pos_x = '-3.5mm', orientation = '0'))\n",
    "\n",
    "launch_Q1_cl = LaunchpadWirebond(design, 'Launch_Q1_CL', options = dict(pos_x = '1.35mm', pos_y = '-2.5mm', orientation = '90'))\n",
    "launch_Q2_cl = LaunchpadWirebond(design, 'Launch_Q2_CL', options = dict(pos_x = '-1.35mm', pos_y = '2.5mm', orientation = '-90'))\n",
    "\n",
    "gui.rebuild()\n",
    "gui.autoscale()"
   ]
  },
  {
   "cell_type": "code",
   "execution_count": 13,
   "metadata": {},
   "outputs": [],
   "source": [
    "tl_Q1 = RoutePathfinder(design, 'TL_Q1', options = dict(\n",
    "                                            fillet='99um',\n",
    "                                            lead=dict(end_straight='150um'),\n",
    "                                            pin_inputs=Dict(\n",
    "                                                start_pin=Dict(\n",
    "                                                    component='Launch_Q1_Read',\n",
    "                                                    pin='tie'),\n",
    "                                                end_pin=Dict(\n",
    "                                                    component='Cap_Q1',\n",
    "                                                    pin='b')\n",
    "                                            )))\n",
    "\n",
    "tl_Q2 = RoutePathfinder(design, 'TL_Q2', options = dict(\n",
    "                                            fillet='99um',\n",
    "                                            lead=dict(end_straight='150um'),\n",
    "                                            pin_inputs=Dict(\n",
    "                                                start_pin=Dict(\n",
    "                                                    component='Launch_Q2_Read',\n",
    "                                                    pin='tie'),\n",
    "                                                end_pin=Dict(\n",
    "                                                    component='Cap_Q2',\n",
    "                                                    pin='b')\n",
    "                                            )))\n",
    "\n",
    "gui.rebuild()\n",
    "gui.autoscale()"
   ]
  },
  {
   "cell_type": "code",
   "execution_count": 14,
   "metadata": {},
   "outputs": [
    {
     "data": {
      "image/png": "[encoded data removed]",
      "text/plain": [
       "<IPython.core.display.Image object>"
      ]
     },
     "metadata": {
      "image/png": {
       "width": 500
      }
     },
     "output_type": "display_data"
    }
   ],
   "source": [
    "tl_Q1_cl = RoutePathfinder(design, 'TL_Q1_CL', options = dict(\n",
    "                                            fillet='99um',\n",
    "                                            lead=dict(end_straight='150um'),\n",
    "                                            pin_inputs=Dict(\n",
    "                                                start_pin=Dict(\n",
    "                                                    component='Launch_Q1_CL',\n",
    "                                                    pin='tie'),\n",
    "                                                end_pin=Dict(\n",
    "                                                    component='Q1',\n",
    "                                                    pin='Charge_Line')\n",
    "                                            )))\n",
    "\n",
    "tl_Q2_cl = RoutePathfinder(design, 'TL_Q2_CL', options = dict(\n",
    "                                            fillet='99um',\n",
    "                                            lead=dict(end_straight='150um'),\n",
    "                                            pin_inputs=Dict(\n",
    "                                                start_pin=Dict(\n",
    "                                                    component='Launch_Q2_CL',\n",
    "                                                    pin='tie'),\n",
    "                                                end_pin=Dict(\n",
    "                                                    component='Q2',\n",
    "                                                    pin='Charge_Line')\n",
    "                                            )))\n",
    "\n",
    "gui.rebuild()\n",
    "gui.autoscale()\n",
    "gui.screenshot()"
   ]
  },
  {
   "cell_type": "markdown",
   "metadata": {},
   "source": [
    "## Simulation and Analysis\n",
    "\n",
    "With our fully designed chip now laid out, we can start to focus on tuning the components to hit the circuit parameters we are interested in. These will tend to be;\n",
    "- qubit: frequency, the anharmonicity/alpha, and the coupling strength (as chi, g, or other)\n",
    "- busses: frequency (if resonant), the coupling strength\n",
    "- readout: frequency, coupling strength, coupling to external lines (as kappa, Q_external, or other)\n",
    "\n",
    "### Analysis via capacitance matrix and LOM\n",
    "\n",
    "All of the qubit paramters can initially be tuned via a capacitance matrix and the lumped oscillator method. This analysis is not as accurate as others, but allows for fairly fast and small simulations.\n",
    "\n",
    "We will start by selecting the Analysis class of interest."
   ]
  },
  {
   "cell_type": "code",
   "execution_count": 15,
   "metadata": {},
   "outputs": [],
   "source": [
    "from qiskit_metal.analyses.quantization import LOManalysis\n",
    "c1 = LOManalysis(design, \"q3d\")"
   ]
  },
  {
   "cell_type": "markdown",
   "metadata": {},
   "source": [
    "We can see what options are available for the analysis and make any changes we may wish, such as increasing the buffer size for the bounding box when simulation subsections of the chip."
   ]
  },
  {
   "cell_type": "code",
   "execution_count": 16,
   "metadata": {},
   "outputs": [],
   "source": [
    "sim_p = c1.sim.setup"
   ]
  },
  {
   "cell_type": "code",
   "execution_count": 17,
   "metadata": {},
   "outputs": [
    {
     "data": {
      "text/plain": [
       "{'name': 'QubitTune',\n",
       " 'reuse_selected_design': True,\n",
       " 'reuse_setup': True,\n",
       " 'freq_ghz': 5.0,\n",
       " 'save_fields': False,\n",
       " 'enabled': True,\n",
       " 'max_passes': 15,\n",
       " 'min_passes': 2,\n",
       " 'min_converged_passes': 2,\n",
       " 'percent_error': 0.1,\n",
       " 'percent_refinement': 30,\n",
       " 'auto_increase_solution_order': True,\n",
       " 'solution_order': 'High',\n",
       " 'solver_type': 'Iterative'}"
      ]
     },
     "execution_count": 17,
     "metadata": {},
     "output_type": "execute_result"
    }
   ],
   "source": [
    "sim_p.name = 'QubitTune'\n",
    "sim_p.max_passes = 15\n",
    "sim_p.min_converged_passes = 2\n",
    "sim_p.percent_error = 0.1\n",
    "\n",
    "c1.sim.setup"
   ]
  },
  {
   "cell_type": "markdown",
   "metadata": {},
   "source": [
    "With the design and simulation setup, we render the qubit. For LOM analysis, we want the connection pads to be terminated with opens. We indicate this by stating which unconnected pins should have open terminations.\n",
    "\n",
    "*During the execution of the next cell, make sure to deal with any pop up boxes from Ansys as it opens up (if it was closed)*"
   ]
  },
  {
   "cell_type": "code",
   "execution_count": 18,
   "metadata": {},
   "outputs": [
    {
     "name": "stderr",
     "output_type": "stream",
     "text": [
      "INFO 01:42PM [connect_project]: Connecting to Ansys Desktop API...\n",
      "INFO 01:42PM [load_ansys_project]: \tOpened Ansys App\n",
      "INFO 01:42PM [load_ansys_project]: \tOpened Ansys Desktop v2023.1.0\n",
      "INFO 01:42PM [load_ansys_project]: \tOpened Ansys Project\n",
      "\tFolder:    C:/Users/askev/OneDrive/文件/Ansoft/\n",
      "\tProject:   Project8\n",
      "INFO 01:42PM [connect_design]: No active design found (or error getting active design).\n",
      "INFO 01:42PM [connect]: \t Connected to project \"Project8\". No design detected\n",
      "INFO 01:42PM [connect_design]: \tOpened active design\n",
      "\tDesign:    Qubit1_q3d [Solution type: Q3D]\n",
      "WARNING 01:42PM [connect_setup]: \tNo design setup detected.\n",
      "WARNING 01:42PM [connect_setup]: \tCreating Q3D default setup.\n",
      "INFO 01:42PM [get_setup]: \tOpened setup `Setup`  (<class 'pyEPR.ansys.AnsysQ3DSetup'>)\n",
      "INFO 01:42PM [get_setup]: \tOpened setup `QubitTune`  (<class 'pyEPR.ansys.AnsysQ3DSetup'>)\n",
      "INFO 01:42PM [analyze]: Analyzing setup QubitTune\n",
      "INFO 01:44PM [get_matrix]: Exporting matrix data to (C:\\Users\\askev\\AppData\\Local\\Temp\\tmpw03mf0xv.txt, C, , QubitTune:LastAdaptive, \"Original\", \"ohm\", \"nH\", \"fF\", \"mSie\", 5000000000, Maxwell, 1, False\n",
      "INFO 01:44PM [get_matrix]: Exporting matrix data to (C:\\Users\\askev\\AppData\\Local\\Temp\\tmp426vzqqg.txt, C, , QubitTune:AdaptivePass, \"Original\", \"ohm\", \"nH\", \"fF\", \"mSie\", 5000000000, Maxwell, 1, False\n",
      "INFO 01:44PM [get_matrix]: Exporting matrix data to (C:\\Users\\askev\\AppData\\Local\\Temp\\tmp8j8zls8q.txt, C, , QubitTune:AdaptivePass, \"Original\", \"ohm\", \"nH\", \"fF\", \"mSie\", 5000000000, Maxwell, 2, False\n",
      "INFO 01:44PM [get_matrix]: Exporting matrix data to (C:\\Users\\askev\\AppData\\Local\\Temp\\tmpso0g1wpf.txt, C, , QubitTune:AdaptivePass, \"Original\", \"ohm\", \"nH\", \"fF\", \"mSie\", 5000000000, Maxwell, 3, False\n",
      "INFO 01:44PM [get_matrix]: Exporting matrix data to (C:\\Users\\askev\\AppData\\Local\\Temp\\tmp9ex_m31s.txt, C, , QubitTune:AdaptivePass, \"Original\", \"ohm\", \"nH\", \"fF\", \"mSie\", 5000000000, Maxwell, 4, False\n",
      "INFO 01:44PM [get_matrix]: Exporting matrix data to (C:\\Users\\askev\\AppData\\Local\\Temp\\tmpqtnujp0a.txt, C, , QubitTune:AdaptivePass, \"Original\", \"ohm\", \"nH\", \"fF\", \"mSie\", 5000000000, Maxwell, 5, False\n",
      "INFO 01:44PM [get_matrix]: Exporting matrix data to (C:\\Users\\askev\\AppData\\Local\\Temp\\tmp184zesas.txt, C, , QubitTune:AdaptivePass, \"Original\", \"ohm\", \"nH\", \"fF\", \"mSie\", 5000000000, Maxwell, 6, False\n",
      "INFO 01:44PM [get_matrix]: Exporting matrix data to (C:\\Users\\askev\\AppData\\Local\\Temp\\tmparvdlu6a.txt, C, , QubitTune:AdaptivePass, \"Original\", \"ohm\", \"nH\", \"fF\", \"mSie\", 5000000000, Maxwell, 7, False\n",
      "INFO 01:44PM [get_matrix]: Exporting matrix data to (C:\\Users\\askev\\AppData\\Local\\Temp\\tmpjq_80zor.txt, C, , QubitTune:AdaptivePass, \"Original\", \"ohm\", \"nH\", \"fF\", \"mSie\", 5000000000, Maxwell, 8, False\n",
      "INFO 01:44PM [get_matrix]: Exporting matrix data to (C:\\Users\\askev\\AppData\\Local\\Temp\\tmpurcvn0ne.txt, C, , QubitTune:AdaptivePass, \"Original\", \"ohm\", \"nH\", \"fF\", \"mSie\", 5000000000, Maxwell, 9, False\n",
      "INFO 01:44PM [get_matrix]: Exporting matrix data to (C:\\Users\\askev\\AppData\\Local\\Temp\\tmphythuf3d.txt, C, , QubitTune:AdaptivePass, \"Original\", \"ohm\", \"nH\", \"fF\", \"mSie\", 5000000000, Maxwell, 10, False\n",
      "INFO 01:44PM [get_matrix]: Exporting matrix data to (C:\\Users\\askev\\AppData\\Local\\Temp\\tmpahj5g8dq.txt, C, , QubitTune:AdaptivePass, \"Original\", \"ohm\", \"nH\", \"fF\", \"mSie\", 5000000000, Maxwell, 11, False\n",
      "INFO 01:44PM [get_matrix]: Exporting matrix data to (C:\\Users\\askev\\AppData\\Local\\Temp\\tmpgk2uaetc.txt, C, , QubitTune:AdaptivePass, \"Original\", \"ohm\", \"nH\", \"fF\", \"mSie\", 5000000000, Maxwell, 12, False\n",
      "INFO 01:44PM [get_matrix]: Exporting matrix data to (C:\\Users\\askev\\AppData\\Local\\Temp\\tmp45t7yj6k.txt, C, , QubitTune:AdaptivePass, \"Original\", \"ohm\", \"nH\", \"fF\", \"mSie\", 5000000000, Maxwell, 13, False\n",
      "INFO 01:44PM [get_matrix]: Exporting matrix data to (C:\\Users\\askev\\AppData\\Local\\Temp\\tmp4kkmet_x.txt, C, , QubitTune:AdaptivePass, \"Original\", \"ohm\", \"nH\", \"fF\", \"mSie\", 5000000000, Maxwell, 14, False\n",
      "INFO 01:44PM [get_matrix]: Exporting matrix data to (C:\\Users\\askev\\AppData\\Local\\Temp\\tmpuz7gaf60.txt, C, , QubitTune:AdaptivePass, \"Original\", \"ohm\", \"nH\", \"fF\", \"mSie\", 5000000000, Maxwell, 15, False\n",
      "INFO 01:44PM [get_matrix]: Exporting matrix data to (C:\\Users\\askev\\AppData\\Local\\Temp\\tmpzu7pd1gu.txt, C, , QubitTune:AdaptivePass, \"Original\", \"ohm\", \"nH\", \"fF\", \"mSie\", 5000000000, Maxwell, 16, False\n"
     ]
    }
   ],
   "source": [
    "c1.sim.run(name=\"Qubit1\", components=['Q1'], open_terminations=[('Q1', 'readout'), ('Q1', 'bus')])"
   ]
  },
  {
   "cell_type": "markdown",
   "metadata": {},
   "source": [
    "Once complete, we can grab the capacitance matrix (next cell) and/or (following cells) call on an LOM analysis of the simulation."
   ]
  },
  {
   "cell_type": "code",
   "execution_count": 19,
   "metadata": {},
   "outputs": [
    {
     "data": {
      "text/html": [
       "<div>\n",
       "<style scoped>\n",
       "    .dataframe tbody tr th:only-of-type {\n",
       "        vertical-align: middle;\n",
       "    }\n",
       "\n",
       "    .dataframe tbody tr th {\n",
       "        vertical-align: top;\n",
       "    }\n",
       "\n",
       "    .dataframe thead th {\n",
       "        text-align: right;\n",
       "    }\n",
       "</style>\n",
       "<table border=\"1\" class=\"dataframe\">\n",
       "  <thead>\n",
       "    <tr style=\"text-align: right;\">\n",
       "      <th></th>\n",
       "      <th>bus_connector_pad_Q1</th>\n",
       "      <th>cl_metal_Q1</th>\n",
       "      <th>ground_main_plane</th>\n",
       "      <th>pad_bot_Q1</th>\n",
       "      <th>pad_top_Q1</th>\n",
       "      <th>readout_connector_pad_Q1</th>\n",
       "    </tr>\n",
       "  </thead>\n",
       "  <tbody>\n",
       "    <tr>\n",
       "      <th>bus_connector_pad_Q1</th>\n",
       "      <td>50.96378</td>\n",
       "      <td>-0.01088</td>\n",
       "      <td>-34.52862</td>\n",
       "      <td>-13.79083</td>\n",
       "      <td>-1.64627</td>\n",
       "      <td>-0.13816</td>\n",
       "    </tr>\n",
       "    <tr>\n",
       "      <th>cl_metal_Q1</th>\n",
       "      <td>-0.01088</td>\n",
       "      <td>16.46132</td>\n",
       "      <td>-15.96559</td>\n",
       "      <td>-0.22628</td>\n",
       "      <td>-0.13075</td>\n",
       "      <td>-0.05206</td>\n",
       "    </tr>\n",
       "    <tr>\n",
       "      <th>ground_main_plane</th>\n",
       "      <td>-34.52862</td>\n",
       "      <td>-15.96559</td>\n",
       "      <td>223.36005</td>\n",
       "      <td>-39.66183</td>\n",
       "      <td>-39.74383</td>\n",
       "      <td>-34.47548</td>\n",
       "    </tr>\n",
       "    <tr>\n",
       "      <th>pad_bot_Q1</th>\n",
       "      <td>-13.79083</td>\n",
       "      <td>-0.22628</td>\n",
       "      <td>-39.66183</td>\n",
       "      <td>90.64485</td>\n",
       "      <td>-32.51320</td>\n",
       "      <td>-1.65435</td>\n",
       "    </tr>\n",
       "    <tr>\n",
       "      <th>pad_top_Q1</th>\n",
       "      <td>-1.64627</td>\n",
       "      <td>-0.13075</td>\n",
       "      <td>-39.74383</td>\n",
       "      <td>-32.51320</td>\n",
       "      <td>90.65366</td>\n",
       "      <td>-13.78921</td>\n",
       "    </tr>\n",
       "    <tr>\n",
       "      <th>readout_connector_pad_Q1</th>\n",
       "      <td>-0.13816</td>\n",
       "      <td>-0.05206</td>\n",
       "      <td>-34.47548</td>\n",
       "      <td>-1.65435</td>\n",
       "      <td>-13.78921</td>\n",
       "      <td>50.96180</td>\n",
       "    </tr>\n",
       "  </tbody>\n",
       "</table>\n",
       "</div>"
      ],
      "text/plain": [
       "                          bus_connector_pad_Q1  cl_metal_Q1  \\\n",
       "bus_connector_pad_Q1                  50.96378     -0.01088   \n",
       "cl_metal_Q1                           -0.01088     16.46132   \n",
       "ground_main_plane                    -34.52862    -15.96559   \n",
       "pad_bot_Q1                           -13.79083     -0.22628   \n",
       "pad_top_Q1                            -1.64627     -0.13075   \n",
       "readout_connector_pad_Q1              -0.13816     -0.05206   \n",
       "\n",
       "                          ground_main_plane  pad_bot_Q1  pad_top_Q1  \\\n",
       "bus_connector_pad_Q1              -34.52862   -13.79083    -1.64627   \n",
       "cl_metal_Q1                       -15.96559    -0.22628    -0.13075   \n",
       "ground_main_plane                 223.36005   -39.66183   -39.74383   \n",
       "pad_bot_Q1                        -39.66183    90.64485   -32.51320   \n",
       "pad_top_Q1                        -39.74383   -32.51320    90.65366   \n",
       "readout_connector_pad_Q1          -34.47548    -1.65435   -13.78921   \n",
       "\n",
       "                          readout_connector_pad_Q1  \n",
       "bus_connector_pad_Q1                      -0.13816  \n",
       "cl_metal_Q1                               -0.05206  \n",
       "ground_main_plane                        -34.47548  \n",
       "pad_bot_Q1                                -1.65435  \n",
       "pad_top_Q1                               -13.78921  \n",
       "readout_connector_pad_Q1                  50.96180  "
      ]
     },
     "execution_count": 19,
     "metadata": {},
     "output_type": "execute_result"
    }
   ],
   "source": [
    "c1.sim.capacitance_matrix"
   ]
  },
  {
   "cell_type": "code",
   "execution_count": 20,
   "metadata": {},
   "outputs": [
    {
     "name": "stdout",
     "output_type": "stream",
     "text": [
      "[3, 4] [5 0 1]\n",
      "Predicted Values\n",
      "\n",
      "Transmon Properties\n",
      "f_Q 5.061460 [GHz]\n",
      "EC 311.548506 [MHz]\n",
      "EJ 11.671114 [GHz]\n",
      "alpha -368.251571 [MHz]\n",
      "dispersion 121.964072 [KHz]\n",
      "Lq 13.994355 [nH]\n",
      "Cq 62.174036 [fF]\n",
      "T1 146.447201 [us]\n",
      "\n",
      "**Coupling Properties**\n",
      "\n",
      "tCqbus1 -6.069051 [fF]\n",
      "gbus1_in_MHz -91.010014 [MHz]\n",
      "χ_bus1 -1.407428 [MHz]\n",
      "1/T1bus1 1086.773273 [Hz]\n",
      "T1bus1 146.447237 [us]\n",
      "\n",
      "tCqbus2 6.070659 [fF]\n",
      "gbus2_in_MHz 1.306492 [MHz]\n",
      "χ_bus2 -0.000106 [MHz]\n",
      "1/T1bus2 0.000267 [Hz]\n",
      "T1bus2 596704561.796964 [us]\n",
      "\n",
      "tCqbus3 0.047728 [fF]\n",
      "gbus3_in_MHz 0.010272 [MHz]\n",
      "χ_bus3 -0.000000 [MHz]\n",
      "1/T1bus3 0.000000 [Hz]\n",
      "T1bus3 9652434283637.089844 [us]\n",
      "Bus-Bus Couplings\n",
      "gbus1_2 0.100259 [MHz]\n",
      "gbus1_3 0.004457 [MHz]\n",
      "gbus2_3 0.000039 [MHz]\n"
     ]
    },
    {
     "data": {
      "text/html": [
       "<div>\n",
       "<style scoped>\n",
       "    .dataframe tbody tr th:only-of-type {\n",
       "        vertical-align: middle;\n",
       "    }\n",
       "\n",
       "    .dataframe tbody tr th {\n",
       "        vertical-align: top;\n",
       "    }\n",
       "\n",
       "    .dataframe thead th {\n",
       "        text-align: right;\n",
       "    }\n",
       "</style>\n",
       "<table border=\"1\" class=\"dataframe\">\n",
       "  <thead>\n",
       "    <tr style=\"text-align: right;\">\n",
       "      <th></th>\n",
       "      <th>fQ</th>\n",
       "      <th>EC</th>\n",
       "      <th>EJ</th>\n",
       "      <th>alpha</th>\n",
       "      <th>dispersion</th>\n",
       "      <th>gbus</th>\n",
       "      <th>chi_in_MHz</th>\n",
       "      <th>χr MHz</th>\n",
       "      <th>gr MHz</th>\n",
       "    </tr>\n",
       "  </thead>\n",
       "  <tbody>\n",
       "    <tr>\n",
       "      <th>1</th>\n",
       "      <td>5.434135</td>\n",
       "      <td>363.246656</td>\n",
       "      <td>11.671114</td>\n",
       "      <td>-437.46617</td>\n",
       "      <td>414.157252</td>\n",
       "      <td>[-76.49677097330215, 1.216049205026508, 0.0181...</td>\n",
       "      <td>[-1.6664477888745426, -9.540625446506699e-05, ...</td>\n",
       "      <td>1.666448</td>\n",
       "      <td>76.496771</td>\n",
       "    </tr>\n",
       "    <tr>\n",
       "      <th>2</th>\n",
       "      <td>5.359567</td>\n",
       "      <td>352.527428</td>\n",
       "      <td>11.671114</td>\n",
       "      <td>-422.912456</td>\n",
       "      <td>328.825946</td>\n",
       "      <td>[-86.06902204270997, 1.1976163009709428, 0.010...</td>\n",
       "      <td>[-1.8936300578993857, -9.180724810898038e-05, ...</td>\n",
       "      <td>1.893630</td>\n",
       "      <td>86.069022</td>\n",
       "    </tr>\n",
       "    <tr>\n",
       "      <th>3</th>\n",
       "      <td>5.289791</td>\n",
       "      <td>342.668387</td>\n",
       "      <td>11.671114</td>\n",
       "      <td>-409.621682</td>\n",
       "      <td>263.383811</td>\n",
       "      <td>[-86.37098262607054, 1.2344052225646336, 0.010...</td>\n",
       "      <td>[-1.7276274115306751, -9.682576231618867e-05, ...</td>\n",
       "      <td>1.727627</td>\n",
       "      <td>86.370983</td>\n",
       "    </tr>\n",
       "    <tr>\n",
       "      <th>4</th>\n",
       "      <td>5.224099</td>\n",
       "      <td>333.536828</td>\n",
       "      <td>11.671114</td>\n",
       "      <td>-397.391606</td>\n",
       "      <td>212.544856</td>\n",
       "      <td>[-86.91451588798239, 1.2271530455782431, 0.010...</td>\n",
       "      <td>[-1.5971239252662583, -9.504549557739231e-05, ...</td>\n",
       "      <td>1.597124</td>\n",
       "      <td>86.914516</td>\n",
       "    </tr>\n",
       "    <tr>\n",
       "      <th>5</th>\n",
       "      <td>5.182251</td>\n",
       "      <td>327.795028</td>\n",
       "      <td>11.671114</td>\n",
       "      <td>-389.74041</td>\n",
       "      <td>184.866929</td>\n",
       "      <td>[-86.76658159733597, 1.241202008764247, 0.0098...</td>\n",
       "      <td>[-1.503287492934536, -9.681989154201085e-05, -...</td>\n",
       "      <td>1.503287</td>\n",
       "      <td>86.766582</td>\n",
       "    </tr>\n",
       "    <tr>\n",
       "      <th>6</th>\n",
       "      <td>5.142591</td>\n",
       "      <td>322.407475</td>\n",
       "      <td>11.671114</td>\n",
       "      <td>-382.588314</td>\n",
       "      <td>161.62489</td>\n",
       "      <td>[-87.86469339498507, 1.2598677551741047, 0.010...</td>\n",
       "      <td>[-1.461196229885722, -9.935408253417663e-05, -...</td>\n",
       "      <td>1.461196</td>\n",
       "      <td>87.864693</td>\n",
       "    </tr>\n",
       "    <tr>\n",
       "      <th>7</th>\n",
       "      <td>5.122541</td>\n",
       "      <td>319.703589</td>\n",
       "      <td>11.671114</td>\n",
       "      <td>-379.008652</td>\n",
       "      <td>150.888788</td>\n",
       "      <td>[-88.6570518817071, 1.2763198674968133, 0.0098...</td>\n",
       "      <td>[-1.4482427482395914, -0.00010176024882881998,...</td>\n",
       "      <td>1.448243</td>\n",
       "      <td>88.657052</td>\n",
       "    </tr>\n",
       "    <tr>\n",
       "      <th>8</th>\n",
       "      <td>5.102932</td>\n",
       "      <td>317.072098</td>\n",
       "      <td>11.671114</td>\n",
       "      <td>-375.531094</td>\n",
       "      <td>141.003946</td>\n",
       "      <td>[-89.08462875447421, 1.2797890211227472, 0.010...</td>\n",
       "      <td>[-1.4245277254371815, -0.0001021131405701847, ...</td>\n",
       "      <td>1.424528</td>\n",
       "      <td>89.084629</td>\n",
       "    </tr>\n",
       "    <tr>\n",
       "      <th>9</th>\n",
       "      <td>5.091497</td>\n",
       "      <td>315.543365</td>\n",
       "      <td>11.671114</td>\n",
       "      <td>-373.513676</td>\n",
       "      <td>135.507836</td>\n",
       "      <td>[-89.41263181837934, 1.2869419050042914, 0.010...</td>\n",
       "      <td>[-1.4134186177784924, -0.000103139740608576, -...</td>\n",
       "      <td>1.413419</td>\n",
       "      <td>89.412632</td>\n",
       "    </tr>\n",
       "    <tr>\n",
       "      <th>10</th>\n",
       "      <td>5.083748</td>\n",
       "      <td>314.509946</td>\n",
       "      <td>11.671114</td>\n",
       "      <td>-372.151082</td>\n",
       "      <td>131.892263</td>\n",
       "      <td>[-89.82282976484636, 1.290353247121497, 0.0102...</td>\n",
       "      <td>[-1.4118560544785623, -0.0001036070729924891, ...</td>\n",
       "      <td>1.411856</td>\n",
       "      <td>89.822830</td>\n",
       "    </tr>\n",
       "    <tr>\n",
       "      <th>11</th>\n",
       "      <td>5.078279</td>\n",
       "      <td>313.781725</td>\n",
       "      <td>11.671114</td>\n",
       "      <td>-371.191471</td>\n",
       "      <td>129.391977</td>\n",
       "      <td>[-90.32149079141732, 1.296336244267253, 0.0102...</td>\n",
       "      <td>[-1.4172914402934889, -0.00010451307792552522,...</td>\n",
       "      <td>1.417291</td>\n",
       "      <td>90.321491</td>\n",
       "    </tr>\n",
       "    <tr>\n",
       "      <th>12</th>\n",
       "      <td>5.072003</td>\n",
       "      <td>312.947273</td>\n",
       "      <td>11.671114</td>\n",
       "      <td>-370.092449</td>\n",
       "      <td>126.574566</td>\n",
       "      <td>[-90.49172154668321, 1.2990604235462202, 0.010...</td>\n",
       "      <td>[-1.4109014841051146, -0.00010488720329130652,...</td>\n",
       "      <td>1.410901</td>\n",
       "      <td>90.491722</td>\n",
       "    </tr>\n",
       "    <tr>\n",
       "      <th>13</th>\n",
       "      <td>5.067923</td>\n",
       "      <td>312.405505</td>\n",
       "      <td>11.671114</td>\n",
       "      <td>-369.379238</td>\n",
       "      <td>124.772277</td>\n",
       "      <td>[-90.72295915106533, 1.3015191841751312, 0.010...</td>\n",
       "      <td>[-1.4105141039202027, -0.00010524188391074876,...</td>\n",
       "      <td>1.410514</td>\n",
       "      <td>90.722959</td>\n",
       "    </tr>\n",
       "    <tr>\n",
       "      <th>14</th>\n",
       "      <td>5.065143</td>\n",
       "      <td>312.036708</td>\n",
       "      <td>11.671114</td>\n",
       "      <td>-368.893884</td>\n",
       "      <td>123.557419</td>\n",
       "      <td>[-90.94034598456346, 1.3049954975022915, 0.010...</td>\n",
       "      <td>[-1.4121019973974367, -0.00010577558343799315,...</td>\n",
       "      <td>1.412102</td>\n",
       "      <td>90.940346</td>\n",
       "    </tr>\n",
       "    <tr>\n",
       "      <th>15</th>\n",
       "      <td>5.06146</td>\n",
       "      <td>311.548506</td>\n",
       "      <td>11.671114</td>\n",
       "      <td>-368.251571</td>\n",
       "      <td>121.964072</td>\n",
       "      <td>[-91.010013798346, 1.306491772977438, 0.010272...</td>\n",
       "      <td>[-1.4074280979931995, -0.00010597948199474123,...</td>\n",
       "      <td>1.407428</td>\n",
       "      <td>91.010014</td>\n",
       "    </tr>\n",
       "  </tbody>\n",
       "</table>\n",
       "</div>"
      ],
      "text/plain": [
       "          fQ          EC         EJ       alpha  dispersion  \\\n",
       "1   5.434135  363.246656  11.671114  -437.46617  414.157252   \n",
       "2   5.359567  352.527428  11.671114 -422.912456  328.825946   \n",
       "3   5.289791  342.668387  11.671114 -409.621682  263.383811   \n",
       "4   5.224099  333.536828  11.671114 -397.391606  212.544856   \n",
       "5   5.182251  327.795028  11.671114  -389.74041  184.866929   \n",
       "6   5.142591  322.407475  11.671114 -382.588314   161.62489   \n",
       "7   5.122541  319.703589  11.671114 -379.008652  150.888788   \n",
       "8   5.102932  317.072098  11.671114 -375.531094  141.003946   \n",
       "9   5.091497  315.543365  11.671114 -373.513676  135.507836   \n",
       "10  5.083748  314.509946  11.671114 -372.151082  131.892263   \n",
       "11  5.078279  313.781725  11.671114 -371.191471  129.391977   \n",
       "12  5.072003  312.947273  11.671114 -370.092449  126.574566   \n",
       "13  5.067923  312.405505  11.671114 -369.379238  124.772277   \n",
       "14  5.065143  312.036708  11.671114 -368.893884  123.557419   \n",
       "15   5.06146  311.548506  11.671114 -368.251571  121.964072   \n",
       "\n",
       "                                                 gbus  \\\n",
       "1   [-76.49677097330215, 1.216049205026508, 0.0181...   \n",
       "2   [-86.06902204270997, 1.1976163009709428, 0.010...   \n",
       "3   [-86.37098262607054, 1.2344052225646336, 0.010...   \n",
       "4   [-86.91451588798239, 1.2271530455782431, 0.010...   \n",
       "5   [-86.76658159733597, 1.241202008764247, 0.0098...   \n",
       "6   [-87.86469339498507, 1.2598677551741047, 0.010...   \n",
       "7   [-88.6570518817071, 1.2763198674968133, 0.0098...   \n",
       "8   [-89.08462875447421, 1.2797890211227472, 0.010...   \n",
       "9   [-89.41263181837934, 1.2869419050042914, 0.010...   \n",
       "10  [-89.82282976484636, 1.290353247121497, 0.0102...   \n",
       "11  [-90.32149079141732, 1.296336244267253, 0.0102...   \n",
       "12  [-90.49172154668321, 1.2990604235462202, 0.010...   \n",
       "13  [-90.72295915106533, 1.3015191841751312, 0.010...   \n",
       "14  [-90.94034598456346, 1.3049954975022915, 0.010...   \n",
       "15  [-91.010013798346, 1.306491772977438, 0.010272...   \n",
       "\n",
       "                                           chi_in_MHz    χr MHz     gr MHz  \n",
       "1   [-1.6664477888745426, -9.540625446506699e-05, ...  1.666448  76.496771  \n",
       "2   [-1.8936300578993857, -9.180724810898038e-05, ...  1.893630  86.069022  \n",
       "3   [-1.7276274115306751, -9.682576231618867e-05, ...  1.727627  86.370983  \n",
       "4   [-1.5971239252662583, -9.504549557739231e-05, ...  1.597124  86.914516  \n",
       "5   [-1.503287492934536, -9.681989154201085e-05, -...  1.503287  86.766582  \n",
       "6   [-1.461196229885722, -9.935408253417663e-05, -...  1.461196  87.864693  \n",
       "7   [-1.4482427482395914, -0.00010176024882881998,...  1.448243  88.657052  \n",
       "8   [-1.4245277254371815, -0.0001021131405701847, ...  1.424528  89.084629  \n",
       "9   [-1.4134186177784924, -0.000103139740608576, -...  1.413419  89.412632  \n",
       "10  [-1.4118560544785623, -0.0001036070729924891, ...  1.411856  89.822830  \n",
       "11  [-1.4172914402934889, -0.00010451307792552522,...  1.417291  90.321491  \n",
       "12  [-1.4109014841051146, -0.00010488720329130652,...  1.410901  90.491722  \n",
       "13  [-1.4105141039202027, -0.00010524188391074876,...  1.410514  90.722959  \n",
       "14  [-1.4121019973974367, -0.00010577558343799315,...  1.412102  90.940346  \n",
       "15  [-1.4074280979931995, -0.00010597948199474123,...  1.407428  91.010014  "
      ]
     },
     "execution_count": 20,
     "metadata": {},
     "output_type": "execute_result"
    }
   ],
   "source": [
    "c1.setup.junctions = Dict({'Lj': 14, 'Cj': 2})\n",
    "c1.setup.freq_readout = 7.0\n",
    "c1.setup.freq_bus = [0.1, 0.1]  # list of the bus frequencies\n",
    "\n",
    "c1.run_lom()\n",
    "c1.lumped_oscillator_all"
   ]
  },
  {
   "cell_type": "markdown",
   "metadata": {},
   "source": [
    "We can finally observe how the main quantum parameters have converged after the previous simulation."
   ]
  },
  {
   "cell_type": "code",
   "execution_count": 21,
   "metadata": {},
   "outputs": [
    {
     "name": "stdout",
     "output_type": "stream",
     "text": [
      "Design \"Qubit1_q3d\" info:\n",
      "\t# eigenmodes    0\n",
      "\t# variations    1\n"
     ]
    },
    {
     "name": "stderr",
     "output_type": "stream",
     "text": [
      "INFO 01:45PM [hfss_report_full_convergence]: Creating report for variation 0\n",
      "01:45PM 02s CRITICAL [_qt_message_handler]: line: 0, func: None(), file: None  CRITICAL: QEventDispatcherWin32::wakeUp: Failed to post a message (配額不足無法處理此命令。)\n",
      "\n"
     ]
    }
   ],
   "source": [
    "c1.plot_convergence();\n",
    "c1.plot_convergence_chi()"
   ]
  },
  {
   "cell_type": "markdown",
   "metadata": {},
   "source": [
    "Note that it is possible for a (physically) converged simulation, to not have quite converged in the quantum realm.\n",
    "\n",
    "Looking at the convergence plots from the previous cell, we can see that we did not have enough passes for the simulation. In this case, we want to modify our simulation setup, 'QubitTune', to improve our convergence (increase number of passes, or changing some other parameters)."
   ]
  },
  {
   "cell_type": "markdown",
   "metadata": {},
   "source": [
    "Once we will know that simulation has converged, we can use those results to make appropriate changes to our qubit layout. Say our anharmonicity/alpha is higher than we want? Since we know Ec~ 1/C, we can change parts of the transmon pocket to lower the total capacitance seen across the junction.\n",
    "If g to the bus is too low, we can increase the width of the connection pad so that the capacitance between the connection pad and charge island is greater.\n",
    "\n",
    "One must also keep in mind that any such changes will impact the other parameters, so careful tweaks and iterations of simulation/analysis often end up being necessary.\n",
    "\n",
    "If wanting to make changes and re-render your design, you first should clear your current design."
   ]
  },
  {
   "cell_type": "code",
   "execution_count": 22,
   "metadata": {},
   "outputs": [],
   "source": [
    "c1.sim.renderer.clean_active_design()"
   ]
  },
  {
   "cell_type": "markdown",
   "metadata": {},
   "source": [
    "When done with all the simulations, you can disconnect from Ansys EDT."
   ]
  },
  {
   "cell_type": "code",
   "execution_count": 23,
   "metadata": {},
   "outputs": [],
   "source": [
    "c1.sim.close()"
   ]
  },
  {
   "cell_type": "markdown",
   "metadata": {},
   "source": [
    "### Analysis via eigenmode and EPR"
   ]
  },
  {
   "cell_type": "markdown",
   "metadata": {},
   "source": [
    "Now, although the previous simulation and analysis captured all of the parameters of the qubits and coupling to the bus, a more accurate (all be it slower) approach is to render the qubits and their coupling into an eigenmode simulation and perform EPR analysis on the result.\n",
    "\n",
    "We again start by selecting the Analysis class of interest."
   ]
  },
  {
   "cell_type": "code",
   "execution_count": 24,
   "metadata": {},
   "outputs": [],
   "source": [
    "from qiskit_metal.analyses.quantization import EPRanalysis\n",
    "eig_qb = EPRanalysis(design, \"hfss\")"
   ]
  },
  {
   "cell_type": "markdown",
   "metadata": {},
   "source": [
    "Review and update the simulation setup by executing following two cells."
   ]
  },
  {
   "cell_type": "code",
   "execution_count": 25,
   "metadata": {},
   "outputs": [],
   "source": [
    "em_p = eig_qb.sim.setup"
   ]
  },
  {
   "cell_type": "code",
   "execution_count": 26,
   "metadata": {},
   "outputs": [
    {
     "data": {
      "text/plain": [
       "{'name': 'QubitTune',\n",
       " 'reuse_selected_design': True,\n",
       " 'reuse_setup': True,\n",
       " 'min_freq_ghz': 3,\n",
       " 'n_modes': 2,\n",
       " 'max_delta_f': 0.1,\n",
       " 'max_passes': 12,\n",
       " 'min_passes': 1,\n",
       " 'min_converged': 2,\n",
       " 'pct_refinement': 30,\n",
       " 'basis_order': 1,\n",
       " 'vars': {'Lj1': '14 nH', 'Cj1': '0 fF', 'Lj2': '12 nH', 'Cj2': '0 fF'}}"
      ]
     },
     "execution_count": 26,
     "metadata": {},
     "output_type": "execute_result"
    }
   ],
   "source": [
    "em_p.name = 'QubitTune'\n",
    "em_p.min_freq_ghz = 3\n",
    "em_p.n_modes = 2\n",
    "em_p.max_passes = 12\n",
    "em_p.max_delta_f = 0.1\n",
    "em_p.min_converged = 2\n",
    "# Design variables can also be added in for direct simulation sweeps.\n",
    "em_p.vars = Dict({'Lj1': '14 nH', 'Cj1': '0 fF', 'Lj2': '12 nH', 'Cj2': '0 fF'})\n",
    "\n",
    "eig_qb.sim.setup"
   ]
  },
  {
   "cell_type": "markdown",
   "metadata": {},
   "source": [
    "We can now run the simulation on the specified layout."
   ]
  },
  {
   "cell_type": "code",
   "execution_count": 27,
   "metadata": {},
   "outputs": [
    {
     "name": "stderr",
     "output_type": "stream",
     "text": [
      "INFO 01:45PM [connect_project]: Connecting to Ansys Desktop API...\n",
      "INFO 01:45PM [load_ansys_project]: \tOpened Ansys App\n",
      "INFO 01:45PM [load_ansys_project]: \tOpened Ansys Desktop v2023.1.0\n",
      "INFO 01:45PM [load_ansys_project]: \tOpened Ansys Project\n",
      "\tFolder:    C:/Users/askev/OneDrive/文件/Ansoft/\n",
      "\tProject:   Project8\n",
      "INFO 01:45PM [connect_design]: \tOpened active design\n",
      "\tDesign:    Qubit1_q3d [Solution type: Q3D]\n",
      "INFO 01:45PM [get_setup]: \tOpened setup `Setup`  (<class 'pyEPR.ansys.AnsysQ3DSetup'>)\n",
      "INFO 01:45PM [connect]: \tConnected to project \"Project8\" and design \"Qubit1_q3d\" 😀 \n",
      "\n",
      "INFO 01:45PM [connect_design]: \tOpened active design\n",
      "\tDesign:    Q1_Q2_Bus_hfss [Solution type: Eigenmode]\n",
      "WARNING 01:45PM [connect_setup]: \tNo design setup detected.\n",
      "WARNING 01:45PM [connect_setup]: \tCreating eigenmode default setup.\n",
      "INFO 01:45PM [get_setup]: \tOpened setup `Setup`  (<class 'pyEPR.ansys.HfssEMSetup'>)\n",
      "INFO 01:45PM [get_setup]: \tOpened setup `QubitTune`  (<class 'pyEPR.ansys.HfssEMSetup'>)\n",
      "INFO 01:45PM [analyze]: Analyzing setup QubitTune\n",
      "01:48PM 42s INFO [get_f_convergence]: Saved convergences to C:\\Users\\askev\\qiskit-metal\\tutorials\\Appendix A Full design flow examples\\hfss_eig_f_convergence.csv\n"
     ]
    }
   ],
   "source": [
    "eig_qb.sim.run(name=\"Q1_Q2_Bus\", components=['Bus_Q1_Q2', 'Q1', 'Q2'], open_terminations=[])"
   ]
  },
  {
   "cell_type": "markdown",
   "metadata": {},
   "source": [
    "Once completed, we can check the convergence to see if more passes might be necessary."
   ]
  },
  {
   "cell_type": "code",
   "execution_count": 28,
   "metadata": {},
   "outputs": [],
   "source": [
    "eig_qb.sim.plot_convergences()"
   ]
  },
  {
   "cell_type": "markdown",
   "metadata": {},
   "source": [
    "This eigenmode simulation is also a quick method to check for any bus or readout resonator frequencies. \n",
    "If happy with the simulation, we can then jump to some EPR analysis.\n",
    "\n",
    "At first we need to define the junctions in terms of name, inductance_variable, capacitance_variable, rectancle that was defined in the rendering to represent the junction `port` and line that was defined in the rendering to represent the direction of the current thorugh the junction."
   ]
  },
  {
   "cell_type": "code",
   "execution_count": 29,
   "metadata": {},
   "outputs": [
    {
     "data": {
      "text/plain": [
       "{'junctions': {'jj1': {'Lj_variable': 'Lj1',\n",
       "   'Cj_variable': 'Cj1',\n",
       "   'rect': 'JJ_rect_Lj_Q1_rect_jj',\n",
       "   'line': 'JJ_Lj_Q1_rect_jj_'},\n",
       "  'jj2': {'Lj_variable': 'Lj2',\n",
       "   'Cj_variable': 'Cj2',\n",
       "   'rect': 'JJ_rect_Lj_Q2_rect_jj',\n",
       "   'line': 'JJ_Lj_Q2_rect_jj_'}},\n",
       " 'dissipatives': {'dielectrics_bulk': ['main']},\n",
       " 'cos_trunc': 8,\n",
       " 'fock_trunc': 7,\n",
       " 'sweep_variable': 'Lj1'}"
      ]
     },
     "execution_count": 29,
     "metadata": {},
     "output_type": "execute_result"
    }
   ],
   "source": [
    "eig_qb.del_junction()\n",
    "eig_qb.add_junction('jj1', 'Lj1', 'Cj1', rect='JJ_rect_Lj_Q1_rect_jj', line='JJ_Lj_Q1_rect_jj_')\n",
    "eig_qb.add_junction('jj2', 'Lj2', 'Cj2', rect='JJ_rect_Lj_Q2_rect_jj', line='JJ_Lj_Q2_rect_jj_')\n",
    "eig_qb.setup.sweep_variable = 'Lj1'\n",
    "eig_qb.setup"
   ]
  },
  {
   "cell_type": "markdown",
   "metadata": {},
   "source": [
    "Note in the previous cell output that the dissipatives have alrady been defined by default.\n",
    "\n",
    "Now we can start looking at the EPR values. First we look at the electric field and subtrate participation."
   ]
  },
  {
   "cell_type": "code",
   "execution_count": 30,
   "metadata": {},
   "outputs": [
    {
     "name": "stdout",
     "output_type": "stream",
     "text": [
      "Design \"Q1_Q2_Bus_hfss\" info:\n",
      "\t# eigenmodes    2\n",
      "\t# variations    1\n",
      "Design \"Q1_Q2_Bus_hfss\" info:\n",
      "\t# eigenmodes    2\n",
      "\t# variations    1\n",
      "\n",
      "        energy_elec_all       = 8.96984257801124e-25\n",
      "        energy_elec_substrate = 8.26392909881544e-25\n",
      "        EPR of substrate = 92.1%\n",
      "\n",
      "        energy_mag    = 3.46568158569727e-27\n",
      "        energy_mag % of energy_elec_all  = 0.4%\n",
      "        \n",
      "\n",
      "Variation 0  [1/1]\n",
      "\n",
      "  \u001b[1mMode 0 at 5.35 GHz   [1/2]\u001b[0m\n",
      "    Calculating ℰ_magnetic,ℰ_electric\n",
      "       (ℰ_E-ℰ_H)/ℰ_E       ℰ_E       ℰ_H\n",
      "               99.6%  4.485e-25 1.733e-27\n",
      "\n",
      "    Calculating junction energy participation ration (EPR)\n",
      "\tmethod=`line_voltage`. First estimates:\n",
      "\tjunction        EPR p_0j   sign s_0j    (p_capacitive)\n",
      "\t\tEnergy fraction (Lj over Lj&Cj)= 96.93%\n",
      "\tjj1             0.994856  (+)        0.0315194\n",
      "\t\tEnergy fraction (Lj over Lj&Cj)= 97.36%\n",
      "\tjj2             4.77002e-05  (+)        1.29536e-06\n",
      "\t\t(U_tot_cap-U_tot_ind)/mean=1.61%\n",
      "Calculating Qdielectric_main for mode 0 (0/1)\n"
     ]
    },
    {
     "name": "stderr",
     "output_type": "stream",
     "text": [
      "WARNING:py.warnings:C:\\Users\\askev\\AppData\\Local\\Programs\\Python\\Python310\\lib\\site-packages\\pyEPR\\core_distributed_analysis.py:1307: FutureWarning: The series.append method is deprecated and will be removed from pandas in a future version. Use pandas.concat instead.\n",
      "  sol = sol.append(self.get_Qdielectric(\n",
      "\n"
     ]
    },
    {
     "name": "stdout",
     "output_type": "stream",
     "text": [
      "p_dielectric_main_0 = 0.9213014639826251\n",
      "\n",
      "  \u001b[1mMode 1 at 5.78 GHz   [2/2]\u001b[0m\n",
      "    Calculating ℰ_magnetic,ℰ_electric\n",
      "       (ℰ_E-ℰ_H)/ℰ_E       ℰ_E       ℰ_H\n",
      "               99.6%  5.463e-25 2.451e-27\n",
      "\n",
      "    Calculating junction energy participation ration (EPR)\n",
      "\tmethod=`line_voltage`. First estimates:\n",
      "\tjunction        EPR p_1j   sign s_1j    (p_capacitive)\n",
      "\t\tEnergy fraction (Lj over Lj&Cj)= 96.44%\n",
      "\tjj1             4.87522e-05  (+)        1.80134e-06\n",
      "\t\tEnergy fraction (Lj over Lj&Cj)= 96.93%\n",
      "\tjj2             0.994194  (+)        0.0314865\n",
      "\t\t(U_tot_cap-U_tot_ind)/mean=1.61%\n",
      "Calculating Qdielectric_main for mode 1 (1/1)\n"
     ]
    },
    {
     "name": "stderr",
     "output_type": "stream",
     "text": [
      "WARNING:py.warnings:C:\\Users\\askev\\AppData\\Local\\Programs\\Python\\Python310\\lib\\site-packages\\pyEPR\\core_distributed_analysis.py:1307: FutureWarning: The series.append method is deprecated and will be removed from pandas in a future version. Use pandas.concat instead.\n",
      "  sol = sol.append(self.get_Qdielectric(\n",
      "\n"
     ]
    },
    {
     "name": "stdout",
     "output_type": "stream",
     "text": [
      "p_dielectric_main_1 = 0.9214514144263412\n"
     ]
    },
    {
     "ename": "com_error",
     "evalue": "(-2147352567, '發生例外狀況。', (0, None, None, None, 0, -2147024382), None)",
     "output_type": "error",
     "traceback": [
      "\u001b[1;31m---------------------------------------------------------------------------\u001b[0m",
      "\u001b[1;31mcom_error\u001b[0m                                 Traceback (most recent call last)",
      "Cell \u001b[1;32mIn[30], line 1\u001b[0m\n\u001b[1;32m----> 1\u001b[0m \u001b[43meig_qb\u001b[49m\u001b[38;5;241;43m.\u001b[39;49m\u001b[43mrun_epr\u001b[49m\u001b[43m(\u001b[49m\u001b[43m)\u001b[49m\n\u001b[0;32m      2\u001b[0m \u001b[38;5;66;03m# (pyEPR allows to switch modes: eprd.set_mode(1))\u001b[39;00m\n",
      "File \u001b[1;32m~\\AppData\\Local\\Programs\\Python\\Python310\\lib\\site-packages\\qiskit_metal\\analyses\\quantization\\energy_participation_ratio.py:172\u001b[0m, in \u001b[0;36mEPRanalysis.run_epr\u001b[1;34m(self, no_junctions)\u001b[0m\n\u001b[0;32m    170\u001b[0m \u001b[38;5;28mself\u001b[39m\u001b[38;5;241m.\u001b[39mget_stored_energy(no_junctions)\n\u001b[0;32m    171\u001b[0m \u001b[38;5;28;01mif\u001b[39;00m \u001b[38;5;129;01mnot\u001b[39;00m no_junctions:\n\u001b[1;32m--> 172\u001b[0m     \u001b[38;5;28;43mself\u001b[39;49m\u001b[38;5;241;43m.\u001b[39;49m\u001b[43mrun_analysis\u001b[49m\u001b[43m(\u001b[49m\u001b[43m)\u001b[49m\n\u001b[0;32m    173\u001b[0m     \u001b[38;5;28mself\u001b[39m\u001b[38;5;241m.\u001b[39mspectrum_analysis(\u001b[38;5;28mself\u001b[39m\u001b[38;5;241m.\u001b[39msetup\u001b[38;5;241m.\u001b[39mcos_trunc, \u001b[38;5;28mself\u001b[39m\u001b[38;5;241m.\u001b[39msetup\u001b[38;5;241m.\u001b[39mfock_trunc)\n\u001b[0;32m    174\u001b[0m     \u001b[38;5;28;01mtry\u001b[39;00m:\n",
      "File \u001b[1;32m~\\AppData\\Local\\Programs\\Python\\Python310\\lib\\site-packages\\qiskit_metal\\analyses\\quantization\\energy_participation_ratio.py:219\u001b[0m, in \u001b[0;36mEPRanalysis.run_analysis\u001b[1;34m(self)\u001b[0m\n\u001b[0;32m    215\u001b[0m \u001b[38;5;28;01mdef\u001b[39;00m \u001b[38;5;21mrun_analysis\u001b[39m(\u001b[38;5;28mself\u001b[39m):\n\u001b[0;32m    216\u001b[0m \u001b[38;5;250m    \u001b[39m\u001b[38;5;124;03m\"\"\"Short-cut to the same-name method found in renderers.ansys_renderer.py.\u001b[39;00m\n\u001b[0;32m    217\u001b[0m \u001b[38;5;124;03m    Eventually, the analysis code needs to be only here, and the renderer method deprecated.\u001b[39;00m\n\u001b[0;32m    218\u001b[0m \u001b[38;5;124;03m    \"\"\"\u001b[39;00m\n\u001b[1;32m--> 219\u001b[0m     \u001b[38;5;28;43mself\u001b[39;49m\u001b[38;5;241;43m.\u001b[39;49m\u001b[43msim\u001b[49m\u001b[38;5;241;43m.\u001b[39;49m\u001b[43mrenderer\u001b[49m\u001b[38;5;241;43m.\u001b[39;49m\u001b[43mepr_run_analysis\u001b[49m\u001b[43m(\u001b[49m\u001b[43m)\u001b[49m\n",
      "File \u001b[1;32m~\\AppData\\Local\\Programs\\Python\\Python310\\lib\\site-packages\\qiskit_metal\\renderers\\renderer_ansys\\ansys_renderer.py:1758\u001b[0m, in \u001b[0;36mQAnsysRenderer.epr_run_analysis\u001b[1;34m(self, junctions, dissipatives)\u001b[0m\n\u001b[0;32m   1756\u001b[0m \u001b[38;5;28;01mif\u001b[39;00m junctions \u001b[38;5;129;01mis\u001b[39;00m \u001b[38;5;129;01mnot\u001b[39;00m \u001b[38;5;28;01mNone\u001b[39;00m \u001b[38;5;129;01mor\u001b[39;00m dissipatives \u001b[38;5;129;01mis\u001b[39;00m \u001b[38;5;129;01mnot\u001b[39;00m \u001b[38;5;28;01mNone\u001b[39;00m:\n\u001b[0;32m   1757\u001b[0m     \u001b[38;5;28mself\u001b[39m\u001b[38;5;241m.\u001b[39mepr_start(junctions, dissipatives)\n\u001b[1;32m-> 1758\u001b[0m \u001b[38;5;28;43mself\u001b[39;49m\u001b[38;5;241;43m.\u001b[39;49m\u001b[43mepr_distributed_analysis\u001b[49m\u001b[38;5;241;43m.\u001b[39;49m\u001b[43mdo_EPR_analysis\u001b[49m\u001b[43m(\u001b[49m\u001b[43m)\u001b[49m\n",
      "File \u001b[1;32m~\\AppData\\Local\\Programs\\Python\\Python310\\lib\\site-packages\\pyEPR\\core_distributed_analysis.py:1326\u001b[0m, in \u001b[0;36mDistributedAnalysis.do_EPR_analysis\u001b[1;34m(self, variations, modes, append_analysis)\u001b[0m\n\u001b[0;32m   1323\u001b[0m     SOL[mode] \u001b[38;5;241m=\u001b[39m sol\n\u001b[0;32m   1325\u001b[0m \u001b[38;5;66;03m# Save\u001b[39;00m\n\u001b[1;32m-> 1326\u001b[0m \u001b[38;5;28;43mself\u001b[39;49m\u001b[38;5;241;43m.\u001b[39;49m\u001b[43m_update_results\u001b[49m\u001b[43m(\u001b[49m\u001b[43mvariation\u001b[49m\u001b[43m,\u001b[49m\u001b[43m \u001b[49m\u001b[43mOm\u001b[49m\u001b[43m,\u001b[49m\u001b[43m \u001b[49m\u001b[43mPm\u001b[49m\u001b[43m,\u001b[49m\u001b[43m \u001b[49m\u001b[43mSm\u001b[49m\u001b[43m,\u001b[49m\u001b[43m \u001b[49m\u001b[43mQm_coupling\u001b[49m\u001b[43m,\u001b[49m\u001b[43m \u001b[49m\u001b[43mSOL\u001b[49m\u001b[43m,\u001b[49m\n\u001b[0;32m   1327\u001b[0m \u001b[43m                     \u001b[49m\u001b[43mfreqs_bare_GHz\u001b[49m\u001b[43m,\u001b[49m\u001b[43m \u001b[49m\u001b[43mQs_bare\u001b[49m\u001b[43m,\u001b[49m\u001b[43m \u001b[49m\u001b[43mLjs\u001b[49m\u001b[43m,\u001b[49m\u001b[43m \u001b[49m\u001b[43mCjs\u001b[49m\u001b[43m,\u001b[49m\n\u001b[0;32m   1328\u001b[0m \u001b[43m                     \u001b[49m\u001b[43mPm_cap\u001b[49m\u001b[43m,\u001b[49m\u001b[43m \u001b[49m\u001b[43mI_peak\u001b[49m\u001b[43m,\u001b[49m\u001b[43m \u001b[49m\u001b[43mV_peak\u001b[49m\u001b[43m,\u001b[49m\n\u001b[0;32m   1329\u001b[0m \u001b[43m                     \u001b[49m\u001b[43mansys_energies\u001b[49m\u001b[43m,\u001b[49m\n\u001b[0;32m   1330\u001b[0m \u001b[43m                     \u001b[49m\u001b[38;5;28;43mself\u001b[39;49m\u001b[38;5;241;43m.\u001b[39;49m\u001b[43m_hfss_variables\u001b[49m\u001b[43m[\u001b[49m\u001b[43mvariation\u001b[49m\u001b[43m]\u001b[49m\u001b[43m)\u001b[49m\n\u001b[0;32m   1331\u001b[0m \u001b[38;5;28mself\u001b[39m\u001b[38;5;241m.\u001b[39msave()\n\u001b[0;32m   1333\u001b[0m \u001b[38;5;28mself\u001b[39m\u001b[38;5;241m.\u001b[39m_previously_analyzed\u001b[38;5;241m.\u001b[39madd(variation)\n",
      "File \u001b[1;32m~\\AppData\\Local\\Programs\\Python\\Python310\\lib\\site-packages\\pyEPR\\core_distributed_analysis.py:1376\u001b[0m, in \u001b[0;36mDistributedAnalysis._update_results\u001b[1;34m(self, variation, Om, Pm, Sm, Qm_coupling, sols, freqs_bare_GHz, Qs_bare, Ljs, Cjs, Pm_cap, I_peak, V_peak, ansys_energies, _hfss_variables)\u001b[0m\n\u001b[0;32m   1372\u001b[0m \u001b[38;5;28mself\u001b[39m\u001b[38;5;241m.\u001b[39mresults[variation][\u001b[38;5;124m'\u001b[39m\u001b[38;5;124mmesh\u001b[39m\u001b[38;5;124m'\u001b[39m] \u001b[38;5;241m=\u001b[39m \u001b[38;5;28mself\u001b[39m\u001b[38;5;241m.\u001b[39mget_mesh_statistics(\n\u001b[0;32m   1373\u001b[0m     variation)  \u001b[38;5;66;03m# dataframe\u001b[39;00m\n\u001b[0;32m   1374\u001b[0m \u001b[38;5;28mself\u001b[39m\u001b[38;5;241m.\u001b[39mresults[variation][\u001b[38;5;124m'\u001b[39m\u001b[38;5;124mconvergence\u001b[39m\u001b[38;5;124m'\u001b[39m] \u001b[38;5;241m=\u001b[39m \u001b[38;5;28mself\u001b[39m\u001b[38;5;241m.\u001b[39mget_convergence(\n\u001b[0;32m   1375\u001b[0m     variation)\n\u001b[1;32m-> 1376\u001b[0m \u001b[38;5;28mself\u001b[39m\u001b[38;5;241m.\u001b[39mresults[variation][\u001b[38;5;124m'\u001b[39m\u001b[38;5;124mconvergence_f_pass\u001b[39m\u001b[38;5;124m'\u001b[39m] \u001b[38;5;241m=\u001b[39m \u001b[38;5;28;43mself\u001b[39;49m\u001b[38;5;241;43m.\u001b[39;49m\u001b[43mhfss_report_f_convergence\u001b[49m\u001b[43m(\u001b[49m\n\u001b[0;32m   1377\u001b[0m \u001b[43m    \u001b[49m\u001b[43mvariation\u001b[49m\u001b[43m,\u001b[49m\u001b[43m \u001b[49m\u001b[43msave_csv\u001b[49m\u001b[38;5;241;43m=\u001b[39;49m\u001b[38;5;28;43;01mFalse\u001b[39;49;00m\u001b[43m)\u001b[49m\n",
      "File \u001b[1;32m~\\AppData\\Local\\Programs\\Python\\Python310\\lib\\site-packages\\pyEPR\\core_distributed_analysis.py:1582\u001b[0m, in \u001b[0;36mDistributedAnalysis.hfss_report_f_convergence\u001b[1;34m(self, variation, save_csv)\u001b[0m\n\u001b[0;32m   1579\u001b[0m \u001b[38;5;66;03m# Properties of lines\u001b[39;00m\n\u001b[0;32m   1580\u001b[0m curves \u001b[38;5;241m=\u001b[39m [\u001b[38;5;124mf\u001b[39m\u001b[38;5;124m\"\u001b[39m\u001b[38;5;132;01m{\u001b[39;00mreport_name\u001b[38;5;132;01m}\u001b[39;00m\u001b[38;5;124m:re(Mode(\u001b[39m\u001b[38;5;132;01m{\u001b[39;00mi\u001b[38;5;132;01m}\u001b[39;00m\u001b[38;5;124m)):Curve1\u001b[39m\u001b[38;5;124m\"\u001b[39m \u001b[38;5;28;01mfor\u001b[39;00m i \u001b[38;5;129;01min\u001b[39;00m \u001b[38;5;28mrange\u001b[39m(\n\u001b[0;32m   1581\u001b[0m     \u001b[38;5;241m1\u001b[39m, \u001b[38;5;241m1\u001b[39m\u001b[38;5;241m+\u001b[39m\u001b[38;5;28mself\u001b[39m\u001b[38;5;241m.\u001b[39mn_modes)]\n\u001b[1;32m-> 1582\u001b[0m \u001b[43mset_property\u001b[49m\u001b[43m(\u001b[49m\u001b[43mreport\u001b[49m\u001b[43m,\u001b[49m\u001b[43m \u001b[49m\u001b[38;5;124;43m'\u001b[39;49m\u001b[38;5;124;43mAttributes\u001b[39;49m\u001b[38;5;124;43m'\u001b[39;49m\u001b[43m,\u001b[49m\u001b[43m \u001b[49m\u001b[43mcurves\u001b[49m\u001b[43m,\u001b[49m\u001b[43m \u001b[49m\u001b[38;5;124;43m'\u001b[39;49m\u001b[38;5;124;43mLine Width\u001b[39;49m\u001b[38;5;124;43m'\u001b[39;49m\u001b[43m,\u001b[49m\u001b[43m \u001b[49m\u001b[38;5;241;43m3\u001b[39;49m\u001b[43m)\u001b[49m\n\u001b[0;32m   1583\u001b[0m set_property(report, \u001b[38;5;124m'\u001b[39m\u001b[38;5;124mScaling\u001b[39m\u001b[38;5;124m'\u001b[39m,\n\u001b[0;32m   1584\u001b[0m              \u001b[38;5;124mf\u001b[39m\u001b[38;5;124m\"\u001b[39m\u001b[38;5;132;01m{\u001b[39;00mreport_name\u001b[38;5;132;01m}\u001b[39;00m\u001b[38;5;124m:AxisY1\u001b[39m\u001b[38;5;124m\"\u001b[39m, \u001b[38;5;124m'\u001b[39m\u001b[38;5;124mAuto Units\u001b[39m\u001b[38;5;124m'\u001b[39m, \u001b[38;5;28;01mFalse\u001b[39;00m)\n\u001b[0;32m   1585\u001b[0m set_property(report, \u001b[38;5;124m'\u001b[39m\u001b[38;5;124mScaling\u001b[39m\u001b[38;5;124m'\u001b[39m, \u001b[38;5;124mf\u001b[39m\u001b[38;5;124m\"\u001b[39m\u001b[38;5;132;01m{\u001b[39;00mreport_name\u001b[38;5;132;01m}\u001b[39;00m\u001b[38;5;124m:AxisY1\u001b[39m\u001b[38;5;124m\"\u001b[39m, \u001b[38;5;124m'\u001b[39m\u001b[38;5;124mUnits\u001b[39m\u001b[38;5;124m'\u001b[39m, \u001b[38;5;124m'\u001b[39m\u001b[38;5;124mg\u001b[39m\u001b[38;5;124m'\u001b[39m)\n",
      "File \u001b[1;32m~\\AppData\\Local\\Programs\\Python\\Python310\\lib\\site-packages\\pyEPR\\ansys.py:357\u001b[0m, in \u001b[0;36mset_property\u001b[1;34m(prop_holder, prop_tab, prop_server, name, value, prop_args)\u001b[0m\n\u001b[0;32m    355\u001b[0m \u001b[38;5;28;01mif\u001b[39;00m \u001b[38;5;129;01mnot\u001b[39;00m \u001b[38;5;28misinstance\u001b[39m(prop_server, \u001b[38;5;28mlist\u001b[39m):\n\u001b[0;32m    356\u001b[0m     prop_server \u001b[38;5;241m=\u001b[39m [prop_server]\n\u001b[1;32m--> 357\u001b[0m \u001b[38;5;28;01mreturn\u001b[39;00m \u001b[43mprop_holder\u001b[49m\u001b[38;5;241;43m.\u001b[39;49m\u001b[43mChangeProperty\u001b[49m\u001b[43m(\u001b[49m\u001b[43m[\u001b[49m\n\u001b[0;32m    358\u001b[0m \u001b[43m    \u001b[49m\u001b[38;5;124;43m\"\u001b[39;49m\u001b[38;5;124;43mNAME:AllTabs\u001b[39;49m\u001b[38;5;124;43m\"\u001b[39;49m\u001b[43m,\u001b[49m\n\u001b[0;32m    359\u001b[0m \u001b[43m    \u001b[49m\u001b[43m[\u001b[49m\n\u001b[0;32m    360\u001b[0m \u001b[43m        \u001b[49m\u001b[38;5;124;43m\"\u001b[39;49m\u001b[38;5;124;43mNAME:\u001b[39;49m\u001b[38;5;124;43m\"\u001b[39;49m\u001b[43m \u001b[49m\u001b[38;5;241;43m+\u001b[39;49m\u001b[43m \u001b[49m\u001b[43mprop_tab\u001b[49m\u001b[43m,\u001b[49m\u001b[43m \u001b[49m\u001b[43m[\u001b[49m\u001b[38;5;124;43m\"\u001b[39;49m\u001b[38;5;124;43mNAME:PropServers\u001b[39;49m\u001b[38;5;124;43m\"\u001b[39;49m\u001b[43m,\u001b[49m\u001b[43m \u001b[49m\u001b[38;5;241;43m*\u001b[39;49m\u001b[43mprop_server\u001b[49m\u001b[43m]\u001b[49m\u001b[43m,\u001b[49m\n\u001b[0;32m    361\u001b[0m \u001b[43m        \u001b[49m\u001b[43m[\u001b[49m\n\u001b[0;32m    362\u001b[0m \u001b[43m            \u001b[49m\u001b[38;5;124;43m\"\u001b[39;49m\u001b[38;5;124;43mNAME:ChangedProps\u001b[39;49m\u001b[38;5;124;43m\"\u001b[39;49m\u001b[43m,\u001b[49m\n\u001b[0;32m    363\u001b[0m \u001b[43m            \u001b[49m\u001b[43m[\u001b[49m\u001b[38;5;124;43m\"\u001b[39;49m\u001b[38;5;124;43mNAME:\u001b[39;49m\u001b[38;5;124;43m\"\u001b[39;49m\u001b[43m \u001b[49m\u001b[38;5;241;43m+\u001b[39;49m\u001b[43m \u001b[49m\u001b[43mname\u001b[49m\u001b[43m,\u001b[49m\u001b[43m \u001b[49m\u001b[38;5;124;43m\"\u001b[39;49m\u001b[38;5;124;43mValue:=\u001b[39;49m\u001b[38;5;124;43m\"\u001b[39;49m\u001b[43m,\u001b[49m\u001b[43m \u001b[49m\u001b[43mvalue\u001b[49m\u001b[43m]\u001b[49m\u001b[43m \u001b[49m\u001b[38;5;241;43m+\u001b[39;49m\u001b[43m \u001b[49m\u001b[43m(\u001b[49m\u001b[43mprop_args\u001b[49m\u001b[43m \u001b[49m\u001b[38;5;129;43;01mor\u001b[39;49;00m\u001b[43m \u001b[49m\u001b[43m[\u001b[49m\u001b[43m]\u001b[49m\u001b[43m)\u001b[49m\n\u001b[0;32m    364\u001b[0m \u001b[43m        \u001b[49m\u001b[43m]\u001b[49m\n\u001b[0;32m    365\u001b[0m \u001b[43m    \u001b[49m\u001b[43m]\u001b[49m\n\u001b[0;32m    366\u001b[0m \u001b[43m\u001b[49m\u001b[43m]\u001b[49m\u001b[43m)\u001b[49m\n",
      "File \u001b[1;32m<COMObject GetModule>:2\u001b[0m, in \u001b[0;36mChangeProperty\u001b[1;34m(self, args)\u001b[0m\n",
      "\u001b[1;31mcom_error\u001b[0m: (-2147352567, '發生例外狀況。', (0, None, None, None, 0, -2147024382), None)"
     ]
    }
   ],
   "source": [
    "eig_qb.run_epr()\n",
    "# (pyEPR allows to switch modes: eprd.set_mode(1))"
   ]
  },
  {
   "cell_type": "markdown",
   "metadata": {},
   "source": [
    "From the analysis results we can determine the qubits anharmonicities and coupling strength."
   ]
  },
  {
   "cell_type": "markdown",
   "metadata": {},
   "source": [
    "Other analysis is still being added, such as the impedance analysis, though some already be done manually by renderering to a driven modal simulation and performing frequency sweeps to extract the S-Parameters or Impedance matrix. This would be an easy way to, say, determine the external quality factor of a readout resonator. *See tutorial notebooks 4.3*\n",
    "\n",
    "Once the analysis and tuning is complete, we can disconnect from the renderer."
   ]
  },
  {
   "cell_type": "code",
   "execution_count": null,
   "metadata": {},
   "outputs": [],
   "source": [
    "eig_qb.sim.close()"
   ]
  },
  {
   "cell_type": "markdown",
   "metadata": {},
   "source": [
    "### Rendering to a GDS File"
   ]
  },
  {
   "cell_type": "markdown",
   "metadata": {},
   "source": [
    "Once all of the tuning is complete, we will want to prepare a GDS file so we can create a mask and fabricate our chip. We first create a gds render instance."
   ]
  },
  {
   "cell_type": "code",
   "execution_count": null,
   "metadata": {},
   "outputs": [],
   "source": [
    "qhk21_gds = design.renderers.gds"
   ]
  },
  {
   "cell_type": "markdown",
   "metadata": {},
   "source": [
    "The various options for the gds renderer can be checked and changed as necessary. A key option is the gds file which holds the cells for your junction ebeam design. Make sure this is pointing at the correct file so they are placed in your final mask at the appropriate locations."
   ]
  },
  {
   "cell_type": "code",
   "execution_count": null,
   "metadata": {},
   "outputs": [],
   "source": [
    "qhk21_gds.options"
   ]
  },
  {
   "cell_type": "code",
   "execution_count": null,
   "metadata": {},
   "outputs": [],
   "source": [
    "qhk21_gds.options['path_filename'] = '../resources/Fake_Junctions.GDS'\n",
    "qhk21_gds.options['no_cheese']['buffer']='50um'"
   ]
  },
  {
   "cell_type": "code",
   "execution_count": null,
   "metadata": {},
   "outputs": [],
   "source": [
    "qhk21_gds.export_to_gds('QHK21_Tutorial.gds')"
   ]
  },
  {
   "cell_type": "markdown",
   "metadata": {},
   "source": [
    "(optional) Now that the design is finished, we can close the GUI."
   ]
  },
  {
   "cell_type": "code",
   "execution_count": null,
   "metadata": {
    "tags": []
   },
   "outputs": [],
   "source": [
    "# gui.main_window.close()"
   ]
  }
 ],
 "metadata": {
  "kernelspec": {
   "display_name": "Python 3 (ipykernel)",
   "language": "python",
   "name": "python3"
  },
  "language_info": {
   "codemirror_mode": {
    "name": "ipython",
    "version": 3
   },
   "file_extension": ".py",
   "mimetype": "text/x-python",
   "name": "python",
   "nbconvert_exporter": "python",
   "pygments_lexer": "ipython3",
   "version": "3.10.0"
  }
 },
 "nbformat": 4,
 "nbformat_minor": 4
}

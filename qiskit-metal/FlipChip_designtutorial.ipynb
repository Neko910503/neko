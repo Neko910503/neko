{
 "cells": [
  {
   "cell_type": "markdown",
   "id": "f96003c3",
   "metadata": {},
   "source": [
    "# Flip-Chip Devices in Qiskit Metal\n",
    "\n",
    "In this notebook, we will construct a device made of a coupled qubit - resonator system in a flip-chip environment. After that, we proceed to analyse them using the EPR technique available in the qiskit metal analyses folder.\n",
    "\n",
    "The flip-chip device in this notebook is very basic, consisting of two chips separated by a specific distance (that we shall specify later). There are different layout flavours, one way is to place the resonator at the 'bottom' chip or so-called 'control' chip, and the qubit on the 'top' chip or so-called 'qubit' chip.\n"
   ]
  },
  {
   "cell_type": "markdown",
   "id": "1ea0705e",
   "metadata": {},
   "source": [
    "## 1. Building a Flip-Chip Device Design\n",
    "We use another class called the <code>DesignFlipChip</code> class. The design workflow is very similar to the one for building planar devices (cf. <code>DesignPlanar</code>), except that there are two chips, and you need to specify which chip you want to draw the device on. At the moment, the two chips are called the 'C_chip' and the 'Q_chip'."
   ]
  },
  {
   "cell_type": "code",
   "execution_count": 1,
   "id": "0d41a1db",
   "metadata": {},
   "outputs": [],
   "source": [
    "%reload_ext autoreload\n",
    "%autoreload 2"
   ]
  },
  {
   "cell_type": "code",
   "execution_count": 2,
   "id": "1c02013c",
   "metadata": {},
   "outputs": [],
   "source": [
    "import qiskit_metal as metal\n",
    "from qiskit_metal import designs, draw\n",
    "from qiskit_metal import MetalGUI, Dict, Headings\n",
    "from qiskit_metal.qlibrary.qubits.transmon_cross import TransmonCross\n",
    "#from qiskit_metal.qlibrary.resonator.readoutres_fc import ReadoutResFC\n",
    "\n",
    "# suppress deprecation warnings\n",
    "import warnings\n",
    "warnings.filterwarnings(\"ignore\", category=Warning)"
   ]
  },
  {
   "cell_type": "code",
   "execution_count": 3,
   "id": "88f78db4",
   "metadata": {},
   "outputs": [],
   "source": [
    "# Initialise design\n",
    "design = designs.DesignFlipChip()\n",
    "# Specify design name\n",
    "design.metadata['design_name'] = 'FlipChip_Device'\n",
    "# launch GUI\n",
    "gui = MetalGUI(design)\n",
    "# Allow running the same cell here multiple times to overwrite changes\n",
    "design.overwrite_enabled = True"
   ]
  },
  {
   "cell_type": "markdown",
   "id": "a689d06b",
   "metadata": {},
   "source": [
    "Next, we draw an Xmon on the Q-chip, and a readout resonator on the C-chip."
   ]
  },
  {
   "cell_type": "code",
   "execution_count": 4,
   "id": "1a4c6ad6",
   "metadata": {},
   "outputs": [],
   "source": [
    "# delete existing components\n",
    "design.delete_all_components()\n",
    "\n",
    "# draw an Xmon on the Q_chip. Notice that I have defined one more item called chip and set it to be the 'Q_chip'\n",
    "options_cpads = Dict(\n",
    "        connector_type = '0', # claw type\n",
    "        claw_length = '30um',\n",
    "        ground_spacing = '5um',\n",
    "        claw_width = '10um',\n",
    "        claw_gap = '6um')\n",
    "options = Dict(\n",
    "    chip = 'Q_chip',\n",
    "    cross_width = '20um',\n",
    "    cross_length = '150um',\n",
    "    cross_gap = '20um',\n",
    "    connection_pads = Dict(\n",
    "        claw_west = Dict(connector_location= '180', **options_cpads)))\n",
    "\n",
    "# position the center of the Xmon at (0,0)\n",
    "q1_x = '0.0 mm'\n",
    "q1_y = '0.0 mm'\n",
    "\n",
    "# build the device, positioned at (q1_x, q1_y)\n",
    "q1 = TransmonCross(design, 'Q1', options = Dict(pos_x=q1_x, pos_y=q1_y, **options))\n",
    "\n",
    "# rebuild in gui\n",
    "gui.rebuild()\n",
    "gui.autoscale()"
   ]
  },
  {
   "cell_type": "code",
   "execution_count": 5,
   "id": "ddbc50d8",
   "metadata": {},
   "outputs": [
    {
     "ename": "NameError",
     "evalue": "name 'ReadoutResFC' is not defined",
     "output_type": "error",
     "traceback": [
      "\u001b[1;31m---------------------------------------------------------------------------\u001b[0m",
      "\u001b[1;31mNameError\u001b[0m                                 Traceback (most recent call last)",
      "Cell \u001b[1;32mIn[5], line 22\u001b[0m\n\u001b[0;32m      7\u001b[0m options \u001b[38;5;241m=\u001b[39m Dict(\n\u001b[0;32m      8\u001b[0m     chip \u001b[38;5;241m=\u001b[39m \u001b[38;5;124m'\u001b[39m\u001b[38;5;124mC_chip\u001b[39m\u001b[38;5;124m'\u001b[39m,\n\u001b[0;32m      9\u001b[0m     readout_radius \u001b[38;5;241m=\u001b[39m \u001b[38;5;124m'\u001b[39m\u001b[38;5;124m20 um\u001b[39m\u001b[38;5;124m'\u001b[39m,\n\u001b[1;32m   (...)\u001b[0m\n\u001b[0;32m     17\u001b[0m     readout_l5 \u001b[38;5;241m=\u001b[39m \u001b[38;5;124m'\u001b[39m\u001b[38;5;124m550 um\u001b[39m\u001b[38;5;124m'\u001b[39m,\n\u001b[0;32m     18\u001b[0m     arc_step \u001b[38;5;241m=\u001b[39m \u001b[38;5;124m'\u001b[39m\u001b[38;5;124m5 um\u001b[39m\u001b[38;5;124m'\u001b[39m)\n\u001b[0;32m     20\u001b[0m \u001b[38;5;66;03m# the resonator is set to have its origin at the center of the circular patch.\u001b[39;00m\n\u001b[0;32m     21\u001b[0m \u001b[38;5;66;03m# So we set the qubit and the resonator to share the same coordinate (q1_x, q1_y)\u001b[39;00m\n\u001b[1;32m---> 22\u001b[0m r1 \u001b[38;5;241m=\u001b[39m \u001b[43mReadoutResFC\u001b[49m(design, \u001b[38;5;124m'\u001b[39m\u001b[38;5;124mR1\u001b[39m\u001b[38;5;124m'\u001b[39m, options \u001b[38;5;241m=\u001b[39m Dict(pos_x \u001b[38;5;241m=\u001b[39m q1_x, pos_y \u001b[38;5;241m=\u001b[39m q1_y, \u001b[38;5;241m*\u001b[39m\u001b[38;5;241m*\u001b[39moptions))\n\u001b[0;32m     24\u001b[0m \u001b[38;5;66;03m# rebuild in gui\u001b[39;00m\n\u001b[0;32m     25\u001b[0m gui\u001b[38;5;241m.\u001b[39mrebuild()\n",
      "\u001b[1;31mNameError\u001b[0m: name 'ReadoutResFC' is not defined"
     ]
    }
   ],
   "source": [
    "# draw a readout resonator on the C_chip. Note that we specify the chip='C_chip'.\n",
    "# The readout resonator can me made into any shape. Here I opted to use a lambda/4 cpw-based resonator.\n",
    "# The open-ended end of the resonator has a circular shape with a radius of readout_radius. Change this radius to change the qubit-resonator coupling strength.\n",
    "# The cpw_width and cpw_gap are the size of the signal line and the ground gap of the cpw transmission line.\n",
    "# The parameters readout_l1 ... l5, are the lengths of various parts of the cpw.\n",
    "# arc_step is the length of a line that approximates an arc. \n",
    "options = Dict(\n",
    "    chip = 'C_chip',\n",
    "    readout_radius = '20 um',\n",
    "    readout_cpw_width = '10 um',\n",
    "    readout_cpw_gap = '10 um',\n",
    "    readout_cpw_turnradius = '50 um',\n",
    "    readout_l1 = '600 um',\n",
    "    readout_l2 = '200 um',\n",
    "    readout_l3 = '300 um',\n",
    "    readout_l4 = '150 um',\n",
    "    readout_l5 = '550 um',\n",
    "    arc_step = '5 um')\n",
    "\n",
    "# the resonator is set to have its origin at the center of the circular patch.\n",
    "# So we set the qubit and the resonator to share the same coordinate (q1_x, q1_y)\n",
    "r1 = ReadoutResFC(design, 'R1', options = Dict(pos_x = q1_x, pos_y = q1_y, **options))\n",
    "\n",
    "# rebuild in gui\n",
    "gui.rebuild()\n",
    "gui.autoscale()\n"
   ]
  },
  {
   "cell_type": "markdown",
   "id": "17affa51",
   "metadata": {},
   "source": [
    "## 2. Preparation Prior to Rendering in ANSYS\n"
   ]
  },
  {
   "cell_type": "markdown",
   "id": "1678915d",
   "metadata": {},
   "source": [
    "As described before, we have specified two chips in the <code>FlipChipDesign</code> class, i.e. C_chip and Q_chip. This information is stored in the chips variables. "
   ]
  },
  {
   "cell_type": "code",
   "execution_count": 6,
   "id": "b35cb7f9",
   "metadata": {},
   "outputs": [
    {
     "data": {
      "text/plain": [
       "{'C_chip': {'material': 'silicon',\n",
       "  'layer_start': '0',\n",
       "  'layer_end': '2048',\n",
       "  'size': {'center_x': '0.0mm',\n",
       "   'center_y': '0.0mm',\n",
       "   'center_z': '0.0mm',\n",
       "   'size_x': '9mm',\n",
       "   'size_y': '9mm',\n",
       "   'size_z': '-280um',\n",
       "   'sample_holder_top': '890um',\n",
       "   'sample_holder_bottom': '1650um'}},\n",
       " 'Q_chip': {'material': 'silicon',\n",
       "  'layer_start': '0',\n",
       "  'layer_end': '2048',\n",
       "  'size': {'center_x': '0.0mm',\n",
       "   'center_y': '0.0mm',\n",
       "   'center_z': '20 um',\n",
       "   'size_x': '9mm',\n",
       "   'size_y': '9mm',\n",
       "   'size_z': '280um',\n",
       "   'sample_holder_top': '890um',\n",
       "   'sample_holder_bottom': '1650um'}}}"
      ]
     },
     "execution_count": 6,
     "metadata": {},
     "output_type": "execute_result"
    }
   ],
   "source": [
    "design.chips"
   ]
  },
  {
   "cell_type": "markdown",
   "id": "3d7929e4",
   "metadata": {},
   "source": [
    "It is important to note that in terms of component rendering in ANSYS, the components are drawn on an XY plane with its Z-coordinate being defined by 'center_z'. For the design object we just created, C_chip components are drawn at z=0, and the Q_chip components are drawn at 20 um."
   ]
  },
  {
   "cell_type": "code",
   "execution_count": 7,
   "id": "f566f85f",
   "metadata": {},
   "outputs": [
    {
     "data": {
      "text/plain": [
       "'0.0mm'"
      ]
     },
     "execution_count": 7,
     "metadata": {},
     "output_type": "execute_result"
    }
   ],
   "source": [
    "design.chips['C_chip']['size']['center_z']"
   ]
  },
  {
   "cell_type": "code",
   "execution_count": 8,
   "id": "9007cb94",
   "metadata": {},
   "outputs": [
    {
     "data": {
      "text/plain": [
       "'20 um'"
      ]
     },
     "execution_count": 8,
     "metadata": {},
     "output_type": "execute_result"
    }
   ],
   "source": [
    "design.chips['Q_chip']['size']['center_z']"
   ]
  },
  {
   "cell_type": "markdown",
   "id": "a05eeba7",
   "metadata": {},
   "source": [
    "Next, we set the Q_chip to be at a distance of, say 10 um, from the C_chip."
   ]
  },
  {
   "cell_type": "code",
   "execution_count": 9,
   "id": "dd6060f0",
   "metadata": {},
   "outputs": [
    {
     "data": {
      "text/plain": [
       "'10 um'"
      ]
     },
     "execution_count": 9,
     "metadata": {},
     "output_type": "execute_result"
    }
   ],
   "source": [
    "design.chips['Q_chip']['size']['center_z'] = '10 um'\n",
    "design.chips['Q_chip']['size']['center_z']"
   ]
  },
  {
   "cell_type": "markdown",
   "id": "5f8e095c",
   "metadata": {},
   "source": [
    "It is possible that you would like to assign a new material to the chip substrate. In this case, I'd usually define a new material in the library instead of modifying the existing one. If this is not of interest, feel free to skip this part.\n",
    "\n",
    "Say, we would like to have a Silicon substrate with a different dielectric constant (11.45 instead of the default value of 11.9). Let's call this new material 'Si_11.45'.\n",
    "\n",
    "To do this, first we add the new material to the ANSYS material library (either manually or scripted like what we did below), and then specify the new material in the design object."
   ]
  },
  {
   "cell_type": "code",
   "execution_count": 13,
   "id": "025e0bfa",
   "metadata": {},
   "outputs": [],
   "source": [
    "# new material properties\n",
    "newMaterial_name = 'Si_11.45'\n",
    "newMaterial_permittivity = '11.45'\n",
    "newMaterial_losstangent = '1e-7'"
   ]
  },
  {
   "cell_type": "code",
   "execution_count": 14,
   "id": "6eb99015",
   "metadata": {},
   "outputs": [
    {
     "name": "stderr",
     "output_type": "stream",
     "text": [
      "INFO 04:12PM [connect_project]: Connecting to Ansys Desktop API...\n",
      "INFO 04:12PM [load_ansys_project]: \tOpened Ansys App\n",
      "INFO 04:12PM [load_ansys_project]: \tOpened Ansys Desktop v2023.1.0\n",
      "INFO 04:12PM [load_ansys_project]: \tAnsys Project was not found.\n",
      "\t Project is None.\n",
      "INFO 04:12PM [connect]: \tConnection to Ansys NOT established.  \n",
      "\n",
      "INFO 04:12PM [connect]: \t Project not detected in Ansys. Is there a project in your desktop app? 🤔 \n",
      "\n",
      "INFO 04:12PM [connect]: \t Connected to project \"None\". No design detected\n"
     ]
    },
    {
     "ename": "AttributeError",
     "evalue": "'NoneType' object has no attribute '_project'",
     "output_type": "error",
     "traceback": [
      "\u001b[1;31m---------------------------------------------------------------------------\u001b[0m",
      "\u001b[1;31mAttributeError\u001b[0m                            Traceback (most recent call last)",
      "Cell \u001b[1;32mIn[14], line 6\u001b[0m\n\u001b[0;32m      4\u001b[0m \u001b[38;5;66;03m# get the handles to the ANSYS system\u001b[39;00m\n\u001b[0;32m      5\u001b[0m ans_prj \u001b[38;5;241m=\u001b[39m project_info\u001b[38;5;241m.\u001b[39mProjectInfo()\n\u001b[1;32m----> 6\u001b[0m oProject \u001b[38;5;241m=\u001b[39m \u001b[43mans_prj\u001b[49m\u001b[38;5;241;43m.\u001b[39;49m\u001b[43mproject\u001b[49m\u001b[38;5;241;43m.\u001b[39;49m\u001b[43m_project\u001b[49m\n\u001b[0;32m      7\u001b[0m defmanager \u001b[38;5;241m=\u001b[39m oProject\u001b[38;5;241m.\u001b[39mGetDefinitionManager()\n\u001b[0;32m      8\u001b[0m \u001b[38;5;66;03m# check if the material exists\u001b[39;00m\n",
      "\u001b[1;31mAttributeError\u001b[0m: 'NoneType' object has no attribute '_project'"
     ]
    }
   ],
   "source": [
    "# add the new material via scripting\n",
    "# uncomment if needed\n",
    "from pyEPR import ansys, project_info\n",
    "# get the handles to the ANSYS system\n",
    "ans_prj = project_info.ProjectInfo()\n",
    "oProject = ans_prj.project._project\n",
    "defmanager = oProject.GetDefinitionManager()\n",
    "# check if the material exists\n",
    "if not defmanager.DoesMaterialExist(newMaterial_name):\n",
    "    defmanager.AddMaterial(\n",
    "        [\n",
    "            \"NAME:%s\"%(newMaterial_name),\n",
    "            \"CoordinateSystemType:=\", \"Cartesian\",\n",
    "            \"BulkOrSurfaceType:=\", 1,\n",
    "            [\n",
    "                    \"NAME:PhysicsTypes\",\n",
    "                    \"set:=\", [\"Electromagnetic\"]\n",
    "            ],\n",
    "            \"permittivity:=\", \"%s\"%(newMaterial_permittivity),\n",
    "            \"dielectric_loss_tangent:=\", \"%s\"%(newMaterial_losstangent)\n",
    "        ])\n",
    "# release the handle to ANSYS\n",
    "ans_prj.project.release()\n",
    "ans_prj.desktop.release()\n",
    "ans_prj.app.release()\n",
    "ansys.release()"
   ]
  },
  {
   "cell_type": "code",
   "execution_count": null,
   "id": "1b1af6d6",
   "metadata": {},
   "outputs": [],
   "source": [
    "# Specify the new material assigment for the chip\n",
    "design.chips['C_chip']['material'] = newMaterial_name\n",
    "design.chips['Q_chip']['material'] = newMaterial_name"
   ]
  },
  {
   "cell_type": "markdown",
   "id": "2493e788",
   "metadata": {},
   "source": [
    "## 3.  Run EPR Analysis\n",
    "We proceed to run the EPR analysis. This follows closely tutorial 4.02 Eigenmode and EPR.\n",
    "\n",
    "First, we initialise an EPRanalysis class object, and update the ANSYS simulation setup."
   ]
  },
  {
   "cell_type": "code",
   "execution_count": 15,
   "id": "548873c3",
   "metadata": {},
   "outputs": [
    {
     "data": {
      "text/plain": [
       "{'name': 'Setup',\n",
       " 'reuse_selected_design': True,\n",
       " 'reuse_setup': True,\n",
       " 'min_freq_ghz': 1,\n",
       " 'n_modes': 1,\n",
       " 'max_delta_f': 0.5,\n",
       " 'max_passes': 10,\n",
       " 'min_passes': 1,\n",
       " 'min_converged': 1,\n",
       " 'pct_refinement': 30,\n",
       " 'basis_order': 1,\n",
       " 'vars': {'Lj': '10 nH', 'Cj': '0 fF'}}"
      ]
     },
     "execution_count": 15,
     "metadata": {},
     "output_type": "execute_result"
    }
   ],
   "source": [
    "from qiskit_metal.analyses.quantization import EPRanalysis\n",
    "eig_fc = EPRanalysis(design, \"hfss\")\n",
    "eig_fc.sim.setup"
   ]
  },
  {
   "cell_type": "code",
   "execution_count": 16,
   "id": "ac123d75",
   "metadata": {},
   "outputs": [
    {
     "data": {
      "text/plain": [
       "{'name': 'Setup',\n",
       " 'reuse_selected_design': True,\n",
       " 'reuse_setup': True,\n",
       " 'min_freq_ghz': 1.5,\n",
       " 'n_modes': 2,\n",
       " 'max_delta_f': 1,\n",
       " 'max_passes': 20,\n",
       " 'min_passes': 1,\n",
       " 'min_converged': 1,\n",
       " 'pct_refinement': 30,\n",
       " 'basis_order': 1,\n",
       " 'vars': {'Lj': '10 nH', 'Cj': '0 fF'}}"
      ]
     },
     "execution_count": 16,
     "metadata": {},
     "output_type": "execute_result"
    }
   ],
   "source": [
    "# update setup setting\n",
    "eig_fc.sim.setup.max_passes = 20\n",
    "eig_fc.sim.setup.vars.Lj = '10 nH'\n",
    "# since we are analysing both the qubit and the resonator, we set the number of modes to be 2\n",
    "eig_fc.sim.setup.n_modes = 2\n",
    "# if there is not enough computational power, you can set a less stringent max_delta_f\n",
    "eig_fc.sim.setup.max_delta_f = 1 \n",
    "eig_fc.sim.setup.min_freq_ghz = 1.5\n",
    "# pass the name of the junction (for the EPR analysis purpose)\n",
    "eig_fc.setup.junctions.jj.rect = 'JJ_rect_Lj_Q1_rect_jj'\n",
    "eig_fc.setup.junctions.jj.line = 'JJ_Lj_Q1_rect_jj_'\n",
    "\n",
    "eig_fc.sim.setup"
   ]
  },
  {
   "cell_type": "markdown",
   "id": "32351948",
   "metadata": {},
   "source": [
    "Next, we run the ANSYS simulation and then the EPR analysis."
   ]
  },
  {
   "cell_type": "code",
   "execution_count": 17,
   "id": "491db648",
   "metadata": {},
   "outputs": [
    {
     "name": "stderr",
     "output_type": "stream",
     "text": [
      "INFO 04:12PM [connect_project]: Connecting to Ansys Desktop API...\n",
      "INFO 04:12PM [load_ansys_project]: \tOpened Ansys App\n",
      "INFO 04:12PM [load_ansys_project]: \tOpened Ansys Desktop v2023.1.0\n",
      "INFO 04:12PM [load_ansys_project]: \tOpened Ansys Project\n",
      "\tFolder:    C:/Users/askev/OneDrive/文件/Ansoft/\n",
      "\tProject:   Project7\n",
      "INFO 04:12PM [connect_design]: No active design found (or error getting active design).\n",
      "INFO 04:12PM [connect]: \t Connected to project \"Project7\". No design detected\n",
      "INFO 04:12PM [connect_design]: \tOpened active design\n",
      "\tDesign:    qubitres_hfss [Solution type: Eigenmode]\n",
      "WARNING 04:12PM [connect_setup]: \tNo design setup detected.\n",
      "WARNING 04:12PM [connect_setup]: \tCreating eigenmode default setup.\n",
      "INFO 04:12PM [get_setup]: \tOpened setup `Setup`  (<class 'pyEPR.ansys.HfssEMSetup'>)\n",
      "04:12PM 39s WARNING [get_unique_component_ids]: The component=R1 in highlight_qcomponents not in QDesign.\n",
      "04:12PM 39s WARNING [render_design]: Unable to proceed with rendering. Please check selection.\n",
      "INFO 04:12PM [get_setup]: \tOpened setup `Setup`  (<class 'pyEPR.ansys.HfssEMSetup'>)\n",
      "INFO 04:12PM [analyze]: Analyzing setup Setup\n",
      "INFO 04:12PM [__del__]: Disconnected from Ansys HFSS\n"
     ]
    },
    {
     "ename": "com_error",
     "evalue": "(-2147352567, '發生例外狀況。', (0, None, None, None, 0, -2147024349), None)",
     "output_type": "error",
     "traceback": [
      "\u001b[1;31m---------------------------------------------------------------------------\u001b[0m",
      "\u001b[1;31mcom_error\u001b[0m                                 Traceback (most recent call last)",
      "Cell \u001b[1;32mIn[17], line 1\u001b[0m\n\u001b[1;32m----> 1\u001b[0m \u001b[43meig_fc\u001b[49m\u001b[38;5;241;43m.\u001b[39;49m\u001b[43msim\u001b[49m\u001b[38;5;241;43m.\u001b[39;49m\u001b[43mrun\u001b[49m\u001b[43m(\u001b[49m\u001b[43mname\u001b[49m\u001b[38;5;241;43m=\u001b[39;49m\u001b[38;5;124;43m\"\u001b[39;49m\u001b[38;5;124;43mqubitres\u001b[39;49m\u001b[38;5;124;43m\"\u001b[39;49m\u001b[43m,\u001b[49m\u001b[43m \u001b[49m\u001b[43mcomponents\u001b[49m\u001b[38;5;241;43m=\u001b[39;49m\u001b[43m[\u001b[49m\u001b[38;5;124;43m'\u001b[39;49m\u001b[38;5;124;43mQ1\u001b[39;49m\u001b[38;5;124;43m'\u001b[39;49m\u001b[43m,\u001b[49m\u001b[43m \u001b[49m\u001b[38;5;124;43m'\u001b[39;49m\u001b[38;5;124;43mR1\u001b[39;49m\u001b[38;5;124;43m'\u001b[39;49m\u001b[43m]\u001b[49m\u001b[43m,\u001b[49m\u001b[43m \u001b[49m\u001b[43mopen_terminations\u001b[49m\u001b[38;5;241;43m=\u001b[39;49m\u001b[43m[\u001b[49m\u001b[43m]\u001b[49m\u001b[43m,\u001b[49m\u001b[43m \u001b[49m\u001b[43mbox_plus_buffer\u001b[49m\u001b[43m \u001b[49m\u001b[38;5;241;43m=\u001b[39;49m\u001b[43m \u001b[49m\u001b[38;5;28;43;01mTrue\u001b[39;49;00m\u001b[43m)\u001b[49m\n",
      "File \u001b[1;32m~\\AppData\\Local\\Programs\\Python\\Python310\\lib\\site-packages\\qiskit_metal\\analyses\\core\\simulation.py:203\u001b[0m, in \u001b[0;36mQSimulation.run\u001b[1;34m(self, *args, **kwargs)\u001b[0m\n\u001b[0;32m    199\u001b[0m \u001b[38;5;28;01mdef\u001b[39;00m \u001b[38;5;21mrun\u001b[39m(\u001b[38;5;28mself\u001b[39m, \u001b[38;5;241m*\u001b[39margs, \u001b[38;5;241m*\u001b[39m\u001b[38;5;241m*\u001b[39mkwargs):\n\u001b[0;32m    200\u001b[0m \u001b[38;5;250m    \u001b[39m\u001b[38;5;124;03m\"\"\"Alias for run_sim() necessary to implement super-class method, while\u001b[39;00m\n\u001b[0;32m    201\u001b[0m \u001b[38;5;124;03m    preventing method name collision when sim and non-sim QAnalysis classes are inherited.\u001b[39;00m\n\u001b[0;32m    202\u001b[0m \u001b[38;5;124;03m    \"\"\"\u001b[39;00m\n\u001b[1;32m--> 203\u001b[0m     \u001b[38;5;28mself\u001b[39m\u001b[38;5;241m.\u001b[39mrun_sim(\u001b[38;5;241m*\u001b[39margs, \u001b[38;5;241m*\u001b[39m\u001b[38;5;241m*\u001b[39mkwargs)\n",
      "File \u001b[1;32m~\\AppData\\Local\\Programs\\Python\\Python310\\lib\\site-packages\\qiskit_metal\\analyses\\simulation\\eigenmode.py:141\u001b[0m, in \u001b[0;36mEigenmodeSim.run_sim\u001b[1;34m(self, name, components, open_terminations, port_list, jj_to_port, ignored_jjs, box_plus_buffer)\u001b[0m\n\u001b[0;32m    129\u001b[0m vars_to_initialize \u001b[38;5;241m=\u001b[39m \u001b[38;5;28mself\u001b[39m\u001b[38;5;241m.\u001b[39msetup\u001b[38;5;241m.\u001b[39mvars\n\u001b[0;32m    130\u001b[0m renderer_design_name \u001b[38;5;241m=\u001b[39m \u001b[38;5;28mself\u001b[39m\u001b[38;5;241m.\u001b[39m_render(\n\u001b[0;32m    131\u001b[0m     name\u001b[38;5;241m=\u001b[39mname,\n\u001b[0;32m    132\u001b[0m     solution_type\u001b[38;5;241m=\u001b[39m\u001b[38;5;124m'\u001b[39m\u001b[38;5;124meigenmode\u001b[39m\u001b[38;5;124m'\u001b[39m,\n\u001b[1;32m   (...)\u001b[0m\n\u001b[0;32m    138\u001b[0m     box_plus_buffer\u001b[38;5;241m=\u001b[39mbox_plus_buffer,\n\u001b[0;32m    139\u001b[0m     vars_to_initialize\u001b[38;5;241m=\u001b[39mvars_to_initialize)\n\u001b[1;32m--> 141\u001b[0m \u001b[38;5;28;43mself\u001b[39;49m\u001b[38;5;241;43m.\u001b[39;49m\u001b[43m_analyze\u001b[49m\u001b[43m(\u001b[49m\u001b[43m)\u001b[49m\n\u001b[0;32m    142\u001b[0m \u001b[38;5;28;01mreturn\u001b[39;00m renderer_design_name, \u001b[38;5;28mself\u001b[39m\u001b[38;5;241m.\u001b[39msim_setup_name\n",
      "File \u001b[1;32m~\\AppData\\Local\\Programs\\Python\\Python310\\lib\\site-packages\\qiskit_metal\\analyses\\simulation\\eigenmode.py:81\u001b[0m, in \u001b[0;36mEigenmodeSim._analyze\u001b[1;34m(self)\u001b[0m\n\u001b[0;32m     75\u001b[0m \u001b[38;5;250m\u001b[39m\u001b[38;5;124;03m\"\"\"Executes the analysis step of the Run. First it initializes the renderer setup\u001b[39;00m\n\u001b[0;32m     76\u001b[0m \u001b[38;5;124;03mto prepare for eignemode analysis, then it executes it. Finally it recovers the\u001b[39;00m\n\u001b[0;32m     77\u001b[0m \u001b[38;5;124;03moutput of the analysis and stores it in self.convergence_t and self.convergence_f.\u001b[39;00m\n\u001b[0;32m     78\u001b[0m \u001b[38;5;124;03m\"\"\"\u001b[39;00m\n\u001b[0;32m     79\u001b[0m \u001b[38;5;28mself\u001b[39m\u001b[38;5;241m.\u001b[39msim_setup_name \u001b[38;5;241m=\u001b[39m \u001b[38;5;28mself\u001b[39m\u001b[38;5;241m.\u001b[39mrenderer\u001b[38;5;241m.\u001b[39minitialize_eigenmode(\u001b[38;5;241m*\u001b[39m\u001b[38;5;241m*\u001b[39m\u001b[38;5;28mself\u001b[39m\u001b[38;5;241m.\u001b[39msetup)\n\u001b[1;32m---> 81\u001b[0m \u001b[38;5;28;43mself\u001b[39;49m\u001b[38;5;241;43m.\u001b[39;49m\u001b[43mrenderer\u001b[49m\u001b[38;5;241;43m.\u001b[39;49m\u001b[43manalyze_setup\u001b[49m\u001b[43m(\u001b[49m\u001b[38;5;28;43mself\u001b[39;49m\u001b[38;5;241;43m.\u001b[39;49m\u001b[43msim_setup_name\u001b[49m\u001b[43m)\u001b[49m\n\u001b[0;32m     82\u001b[0m \u001b[38;5;28mself\u001b[39m\u001b[38;5;241m.\u001b[39mcompute_convergences()\n",
      "File \u001b[1;32m~\\AppData\\Local\\Programs\\Python\\Python310\\lib\\site-packages\\qiskit_metal\\renderers\\renderer_ansys\\hfss_renderer.py:845\u001b[0m, in \u001b[0;36mQHFSSRenderer.analyze_setup\u001b[1;34m(self, setup_name)\u001b[0m\n\u001b[0;32m    843\u001b[0m \u001b[38;5;28;01mif\u001b[39;00m \u001b[38;5;28mself\u001b[39m\u001b[38;5;241m.\u001b[39mpinfo:\n\u001b[0;32m    844\u001b[0m     setup \u001b[38;5;241m=\u001b[39m \u001b[38;5;28mself\u001b[39m\u001b[38;5;241m.\u001b[39mpinfo\u001b[38;5;241m.\u001b[39mget_setup(setup_name)\n\u001b[1;32m--> 845\u001b[0m     \u001b[43msetup\u001b[49m\u001b[38;5;241;43m.\u001b[39;49m\u001b[43manalyze\u001b[49m\u001b[43m(\u001b[49m\u001b[43msetup_name\u001b[49m\u001b[43m)\u001b[49m\n",
      "File \u001b[1;32m~\\AppData\\Local\\Programs\\Python\\Python310\\lib\\site-packages\\pyEPR\\ansys.py:1065\u001b[0m, in \u001b[0;36mHfssSetup.analyze\u001b[1;34m(self, name)\u001b[0m\n\u001b[0;32m   1063\u001b[0m     name \u001b[38;5;241m=\u001b[39m \u001b[38;5;28mself\u001b[39m\u001b[38;5;241m.\u001b[39mname\n\u001b[0;32m   1064\u001b[0m logger\u001b[38;5;241m.\u001b[39minfo(\u001b[38;5;124mf\u001b[39m\u001b[38;5;124m'\u001b[39m\u001b[38;5;124mAnalyzing setup \u001b[39m\u001b[38;5;132;01m{\u001b[39;00mname\u001b[38;5;132;01m}\u001b[39;00m\u001b[38;5;124m'\u001b[39m)\n\u001b[1;32m-> 1065\u001b[0m \u001b[38;5;28;01mreturn\u001b[39;00m \u001b[38;5;28;43mself\u001b[39;49m\u001b[38;5;241;43m.\u001b[39;49m\u001b[43mparent\u001b[49m\u001b[38;5;241;43m.\u001b[39;49m\u001b[43m_design\u001b[49m\u001b[38;5;241;43m.\u001b[39;49m\u001b[43mAnalyze\u001b[49m\u001b[43m(\u001b[49m\u001b[43mname\u001b[49m\u001b[43m)\u001b[49m\n",
      "File \u001b[1;32m<COMObject GetDesign>:2\u001b[0m, in \u001b[0;36mAnalyze\u001b[1;34m(self, simulationName)\u001b[0m\n",
      "\u001b[1;31mcom_error\u001b[0m: (-2147352567, '發生例外狀況。', (0, None, None, None, 0, -2147024349), None)"
     ]
    }
   ],
   "source": [
    "eig_fc.sim.run(name=\"qubitres\", components=['Q1', 'R1'], open_terminations=[], box_plus_buffer = True)"
   ]
  },
  {
   "cell_type": "code",
   "execution_count": null,
   "id": "b973d2bc",
   "metadata": {},
   "outputs": [],
   "source": [
    "eig_fc.setup.dissipatives.dielectrics_bulk = ['Q_chip', 'C_chip']\n",
    "eig_fc.run_epr()"
   ]
  },
  {
   "cell_type": "code",
   "execution_count": null,
   "id": "6f56cc50",
   "metadata": {
    "tags": []
   },
   "outputs": [],
   "source": [
    "eig_fc.sim.close()"
   ]
  }
 ],
 "metadata": {
  "kernelspec": {
   "display_name": "Python 3 (ipykernel)",
   "language": "python",
   "name": "python3"
  },
  "language_info": {
   "codemirror_mode": {
    "name": "ipython",
    "version": 3
   },
   "file_extension": ".py",
   "mimetype": "text/x-python",
   "name": "python",
   "nbconvert_exporter": "python",
   "pygments_lexer": "ipython3",
   "version": "3.10.0"
  }
 },
 "nbformat": 4,
 "nbformat_minor": 5
}

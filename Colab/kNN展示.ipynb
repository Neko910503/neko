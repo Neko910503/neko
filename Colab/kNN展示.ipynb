{
  "nbformat": 4,
  "nbformat_minor": 0,
  "metadata": {
    "colab": {
      "provenance": [],
      "collapsed_sections": []
    },
    "kernelspec": {
      "name": "python3",
      "display_name": "Python 3"
    }
  },
  "cells": [
    {
      "cell_type": "code",
      "source": [
        "from numpy import *\n",
        "import numpy as np\n",
        "import matplotlib.pyplot as plt\n",
        "import operator\n",
        "\n",
        "# 到底目前有多少個被我記錄(背)下來了\n",
        "def createDataSet():\n",
        "    group = array([[1.0,1.1],[1.0,1.0],[0,0],[0,0.1]])\n",
        "    labels = ['A','A','B','B']\n",
        "    return group, labels\n",
        "\n",
        "print(createDataSet())"
      ],
      "metadata": {
        "colab": {
          "base_uri": "https://localhost:8080/"
        },
        "id": "YzyHIQI4BXEZ",
        "outputId": "27c27969-4be6-4193-e71f-221c96725bf5"
      },
      "execution_count": null,
      "outputs": [
        {
          "output_type": "stream",
          "name": "stdout",
          "text": [
            "(array([[1. , 1.1],\n",
            "       [1. , 1. ],\n",
            "       [0. , 0. ],\n",
            "       [0. , 0.1]]), ['A', 'A', 'B', 'B'])\n"
          ]
        }
      ]
    },
    {
      "cell_type": "code",
      "metadata": {
        "id": "csLw9Oc_2IGN"
      },
      "source": [
        "# kNN\n",
        "# 測試用資料：testdata\n",
        "# 訓練集：dataSet\n",
        "# 所有分類的標籤：labels\n",
        "# k:k個鄰居\n",
        "def classify(testdata, dataSet, labels, k):\n",
        "\t# 訓練集有多少資料\n",
        "    dataSetSize = dataSet.shape[0]\n",
        "    diffMat = tile(testdata, (dataSetSize,1)) - dataSet # 算testdata和dataSet間的曼哈頓距離\n",
        "\n",
        "    distances = []\n",
        "    for p in diffMat:     #分別取出四組 (x差, y差)\n",
        "      distances.append(abs(p[0]) + abs(p[1])) #p[0]就是x差, p[1]是y差, 兩個都取絕對值後相加, 再加入 distances 的List\n",
        "    distances = np.array(distances)\n",
        "\n",
        "    #\n",
        "    #sqDiffMat = diffMat**2\n",
        "    #\n",
        "    #sqDistances = sqDiffMat.sum(axis=1)\n",
        "    #\n",
        "    #distances = sqDistances**0.5\n",
        "\n",
        "    print(distances)\n",
        "\n",
        "    # 根據距離排序，排序結果就是index\n",
        "    sortedDistIndicies = distances.argsort()\n",
        "    print(sortedDistIndicies)\n",
        "\n",
        "    classCount={}     \n",
        "    # 取得k當參考         \n",
        "    for i in range(k):  # i = 0~(k-1)  \t  \n",
        "    \t# 根據前面排序得知對應的類別\n",
        "        voteIlabel = labels[sortedDistIndicies[i]]  #求出究竟是A還是B\n",
        "        classCount[voteIlabel] = classCount.get(voteIlabel,0) + 1 #針對是A還是B, 就加一\n",
        "  \n",
        "    print(classCount)\n",
        "\n",
        "    sortedClassCount = sorted(classCount.items(), key=operator.itemgetter(1), reverse=True)\n",
        "    # 丟回最高一項\n",
        "    return sortedClassCount[0][0]"
      ],
      "execution_count": null,
      "outputs": []
    },
    {
      "cell_type": "code",
      "source": [
        "k=3\n",
        "testdata=[0.2,0.2]\n",
        "dataSet,labels = createDataSet()\n",
        "\n",
        "fig = plt.figure()\n",
        "ax = fig.add_subplot(111)\n",
        "indx = 0 \n",
        "for point in dataSet:\n",
        "\tif labels[indx] == 'A' :\n",
        "\t\tax.scatter(point[0],point[1],c='blue',marker='o',linewidths=0, s=300)\n",
        "\t\tplt.annotate(\"(\"+str(point[0])+\",\"+str(point[1])+\")\",xy = (point[0],point[1]))\n",
        "\telse:\n",
        "\t\tax.scatter(point[0],point[1],c='red',marker='^',linewidths=0, s=300)\n",
        "\t\tplt.annotate(\"(\"+str(point[0])+\", \"+str(point[1])+\")\",xy = (point[0],point[1]))\t\n",
        "\tindx += 1\n",
        "\n",
        "ax.scatter(testdata[0],testdata[1],c='green',marker='s',linewidths=0, s=300)\n",
        "plt.annotate(\"(\"+str(testdata[0])+\", \"+str(testdata[1])+\")\",xy = (testdata[0],testdata[1]))\t\t\n",
        "\n",
        "plt.show()\n",
        "print(classify(testdata, dataSet, labels, k))"
      ],
      "metadata": {
        "colab": {
          "base_uri": "https://localhost:8080/",
          "height": 334
        },
        "id": "e9k3ugX4B3rR",
        "outputId": "aae0fd19-0a33-42bb-94f4-3abd3cb496b0"
      },
      "execution_count": null,
      "outputs": [
        {
          "output_type": "display_data",
          "data": {
            "text/plain": [
              "<Figure size 432x288 with 1 Axes>"
            ],
            "image/png": "[encoded data removed]"
          },
          "metadata": {
            "needs_background": "light"
          }
        },
        {
          "output_type": "stream",
          "name": "stdout",
          "text": [
            "[1.7 1.6 0.4 0.3]\n",
            "[3 2 1 0]\n",
            "{'B': 2, 'A': 1}\n",
            "B\n"
          ]
        }
      ]
    }
  ]
}